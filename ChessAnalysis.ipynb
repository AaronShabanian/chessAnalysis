{
 "cells": [
  {
   "cell_type": "code",
   "execution_count": 33,
   "id": "9aaac7e9",
   "metadata": {},
   "outputs": [],
   "source": [
    "import pandas as pd\n",
    "from plotnine import *\n",
    "from tensorflow import keras\n",
    "from keras import models\n",
    "from keras import layers\n",
    "from keras import losses\n",
    "from tensorflow.keras import optimizers\n",
    "from keras import metrics\n",
    "from sklearn.model_selection import train_test_split\n",
    "from sklearn.preprocessing import StandardScaler\n",
    "from sklearn import svm\n",
    "from sklearn import metrics\n",
    "from sklearn.linear_model import LogisticRegression\n",
    "from sklearn.metrics import accuracy_score, confusion_matrix, plot_confusion_matrix\n",
    "import numpy as np\n",
    "import warnings\n",
    "warnings.simplefilter(action='ignore', category=FutureWarning)\n",
    "import matplotlib.pyplot as plt\n",
    "from sklearn.linear_model import LinearRegression\n",
    "from sklearn.metrics import mean_squared_error, r2_score"
   ]
  },
  {
   "cell_type": "code",
   "execution_count": 16,
   "id": "2f2be6ec",
   "metadata": {},
   "outputs": [
    {
     "data": {
      "text/html": [
       "<div>\n",
       "<style scoped>\n",
       "    .dataframe tbody tr th:only-of-type {\n",
       "        vertical-align: middle;\n",
       "    }\n",
       "\n",
       "    .dataframe tbody tr th {\n",
       "        vertical-align: top;\n",
       "    }\n",
       "\n",
       "    .dataframe thead th {\n",
       "        text-align: right;\n",
       "    }\n",
       "</style>\n",
       "<table border=\"1\" class=\"dataframe\">\n",
       "  <thead>\n",
       "    <tr style=\"text-align: right;\">\n",
       "      <th></th>\n",
       "      <th>id</th>\n",
       "      <th>rated</th>\n",
       "      <th>created_at</th>\n",
       "      <th>last_move_at</th>\n",
       "      <th>turns</th>\n",
       "      <th>victory_status</th>\n",
       "      <th>winner</th>\n",
       "      <th>increment_code</th>\n",
       "      <th>white_id</th>\n",
       "      <th>white_rating</th>\n",
       "      <th>black_id</th>\n",
       "      <th>black_rating</th>\n",
       "      <th>moves</th>\n",
       "      <th>opening_eco</th>\n",
       "      <th>opening_name</th>\n",
       "      <th>opening_ply</th>\n",
       "    </tr>\n",
       "  </thead>\n",
       "  <tbody>\n",
       "    <tr>\n",
       "      <th>0</th>\n",
       "      <td>TZJHLljE</td>\n",
       "      <td>False</td>\n",
       "      <td>1.504210e+12</td>\n",
       "      <td>1.504210e+12</td>\n",
       "      <td>13</td>\n",
       "      <td>outoftime</td>\n",
       "      <td>white</td>\n",
       "      <td>15+2</td>\n",
       "      <td>bourgris</td>\n",
       "      <td>1500</td>\n",
       "      <td>a-00</td>\n",
       "      <td>1191</td>\n",
       "      <td>d4 d5 c4 c6 cxd5 e6 dxe6 fxe6 Nf3 Bb4+ Nc3 Ba5...</td>\n",
       "      <td>D10</td>\n",
       "      <td>Slav Defense: Exchange Variation</td>\n",
       "      <td>5</td>\n",
       "    </tr>\n",
       "    <tr>\n",
       "      <th>1</th>\n",
       "      <td>l1NXvwaE</td>\n",
       "      <td>True</td>\n",
       "      <td>1.504130e+12</td>\n",
       "      <td>1.504130e+12</td>\n",
       "      <td>16</td>\n",
       "      <td>resign</td>\n",
       "      <td>black</td>\n",
       "      <td>5+10</td>\n",
       "      <td>a-00</td>\n",
       "      <td>1322</td>\n",
       "      <td>skinnerua</td>\n",
       "      <td>1261</td>\n",
       "      <td>d4 Nc6 e4 e5 f4 f6 dxe5 fxe5 fxe5 Nxe5 Qd4 Nc6...</td>\n",
       "      <td>B00</td>\n",
       "      <td>Nimzowitsch Defense: Kennedy Variation</td>\n",
       "      <td>4</td>\n",
       "    </tr>\n",
       "    <tr>\n",
       "      <th>2</th>\n",
       "      <td>mIICvQHh</td>\n",
       "      <td>True</td>\n",
       "      <td>1.504130e+12</td>\n",
       "      <td>1.504130e+12</td>\n",
       "      <td>61</td>\n",
       "      <td>mate</td>\n",
       "      <td>white</td>\n",
       "      <td>5+10</td>\n",
       "      <td>ischia</td>\n",
       "      <td>1496</td>\n",
       "      <td>a-00</td>\n",
       "      <td>1500</td>\n",
       "      <td>e4 e5 d3 d6 Be3 c6 Be2 b5 Nd2 a5 a4 c5 axb5 Nc...</td>\n",
       "      <td>C20</td>\n",
       "      <td>King's Pawn Game: Leonardis Variation</td>\n",
       "      <td>3</td>\n",
       "    </tr>\n",
       "    <tr>\n",
       "      <th>3</th>\n",
       "      <td>kWKvrqYL</td>\n",
       "      <td>True</td>\n",
       "      <td>1.504110e+12</td>\n",
       "      <td>1.504110e+12</td>\n",
       "      <td>61</td>\n",
       "      <td>mate</td>\n",
       "      <td>white</td>\n",
       "      <td>20+0</td>\n",
       "      <td>daniamurashov</td>\n",
       "      <td>1439</td>\n",
       "      <td>adivanov2009</td>\n",
       "      <td>1454</td>\n",
       "      <td>d4 d5 Nf3 Bf5 Nc3 Nf6 Bf4 Ng4 e3 Nc6 Be2 Qd7 O...</td>\n",
       "      <td>D02</td>\n",
       "      <td>Queen's Pawn Game: Zukertort Variation</td>\n",
       "      <td>3</td>\n",
       "    </tr>\n",
       "    <tr>\n",
       "      <th>4</th>\n",
       "      <td>9tXo1AUZ</td>\n",
       "      <td>True</td>\n",
       "      <td>1.504030e+12</td>\n",
       "      <td>1.504030e+12</td>\n",
       "      <td>95</td>\n",
       "      <td>mate</td>\n",
       "      <td>white</td>\n",
       "      <td>30+3</td>\n",
       "      <td>nik221107</td>\n",
       "      <td>1523</td>\n",
       "      <td>adivanov2009</td>\n",
       "      <td>1469</td>\n",
       "      <td>e4 e5 Nf3 d6 d4 Nc6 d5 Nb4 a3 Na6 Nc3 Be7 b4 N...</td>\n",
       "      <td>C41</td>\n",
       "      <td>Philidor Defense</td>\n",
       "      <td>5</td>\n",
       "    </tr>\n",
       "  </tbody>\n",
       "</table>\n",
       "</div>"
      ],
      "text/plain": [
       "         id  rated    created_at  last_move_at  turns victory_status winner  \\\n",
       "0  TZJHLljE  False  1.504210e+12  1.504210e+12     13      outoftime  white   \n",
       "1  l1NXvwaE   True  1.504130e+12  1.504130e+12     16         resign  black   \n",
       "2  mIICvQHh   True  1.504130e+12  1.504130e+12     61           mate  white   \n",
       "3  kWKvrqYL   True  1.504110e+12  1.504110e+12     61           mate  white   \n",
       "4  9tXo1AUZ   True  1.504030e+12  1.504030e+12     95           mate  white   \n",
       "\n",
       "  increment_code       white_id  white_rating      black_id  black_rating  \\\n",
       "0           15+2       bourgris          1500          a-00          1191   \n",
       "1           5+10           a-00          1322     skinnerua          1261   \n",
       "2           5+10         ischia          1496          a-00          1500   \n",
       "3           20+0  daniamurashov          1439  adivanov2009          1454   \n",
       "4           30+3      nik221107          1523  adivanov2009          1469   \n",
       "\n",
       "                                               moves opening_eco  \\\n",
       "0  d4 d5 c4 c6 cxd5 e6 dxe6 fxe6 Nf3 Bb4+ Nc3 Ba5...         D10   \n",
       "1  d4 Nc6 e4 e5 f4 f6 dxe5 fxe5 fxe5 Nxe5 Qd4 Nc6...         B00   \n",
       "2  e4 e5 d3 d6 Be3 c6 Be2 b5 Nd2 a5 a4 c5 axb5 Nc...         C20   \n",
       "3  d4 d5 Nf3 Bf5 Nc3 Nf6 Bf4 Ng4 e3 Nc6 Be2 Qd7 O...         D02   \n",
       "4  e4 e5 Nf3 d6 d4 Nc6 d5 Nb4 a3 Na6 Nc3 Be7 b4 N...         C41   \n",
       "\n",
       "                             opening_name  opening_ply  \n",
       "0        Slav Defense: Exchange Variation            5  \n",
       "1  Nimzowitsch Defense: Kennedy Variation            4  \n",
       "2   King's Pawn Game: Leonardis Variation            3  \n",
       "3  Queen's Pawn Game: Zukertort Variation            3  \n",
       "4                        Philidor Defense            5  "
      ]
     },
     "execution_count": 16,
     "metadata": {},
     "output_type": "execute_result"
    }
   ],
   "source": [
    "db=pd.read_csv(\"games.csv\")\n",
    "db.head()"
   ]
  },
  {
   "cell_type": "markdown",
   "id": "8b4f6be8",
   "metadata": {},
   "source": [
    "## Checking to see if different traits increase likelyhood of winning"
   ]
  },
  {
   "cell_type": "code",
   "execution_count": 3,
   "id": "1906bc1a",
   "metadata": {},
   "outputs": [
    {
     "data": {
      "image/png": "[encoded data removed]",
      "text/plain": [
       "<Figure size 640x480 with 1 Axes>"
      ]
     },
     "metadata": {
      "needs_background": "light"
     },
     "output_type": "display_data"
    },
    {
     "data": {
      "text/plain": [
       "<ggplot: (117206091283)>"
      ]
     },
     "execution_count": 3,
     "metadata": {},
     "output_type": "execute_result"
    }
   ],
   "source": [
    "white=(db[\"winner\"]==\"white\").sum()\n",
    "black=(db[\"winner\"]==\"black\").sum()\n",
    "colorWinDb=pd.DataFrame({\"Color\": [\"White\", \"Black\"], \n",
    "                        \"y\":[white, black]})\n",
    "(ggplot(colorWinDb, aes(x=\"Color\", weight=\"y\", fill=\"Color\"))+geom_bar()+theme_minimal())"
   ]
  },
  {
   "cell_type": "markdown",
   "id": "c5bb6bef",
   "metadata": {},
   "source": [
    "As expected there is no significant difference in wins whether the player was using the white pieces or black pieces. It also makes sense that there are slightly more wins for white since they start first. "
   ]
  },
  {
   "cell_type": "markdown",
   "id": "407d69c9",
   "metadata": {},
   "source": [
    "## Checking to see if rating makes a difference in predicting who is going to win "
   ]
  },
  {
   "cell_type": "code",
   "execution_count": 4,
   "id": "fc4e3abe",
   "metadata": {},
   "outputs": [
    {
     "data": {
      "image/png": "[encoded data removed]",
      "text/plain": [
       "<Figure size 640x480 with 1 Axes>"
      ]
     },
     "metadata": {
      "needs_background": "light"
     },
     "output_type": "display_data"
    },
    {
     "data": {
      "text/plain": [
       "<ggplot: (117206464275)>"
      ]
     },
     "execution_count": 4,
     "metadata": {},
     "output_type": "execute_result"
    }
   ],
   "source": [
    "whiteBetter=0\n",
    "blackBetter=0\n",
    "whiteWorse=0\n",
    "blackWorse=0\n",
    "for index, row in db.iterrows():\n",
    "    if((int(row[\"white_rating\"])>int(row[\"black_rating\"]) and row[\"winner\"]==\"white\")):\n",
    "        whiteBetter+=1\n",
    "    elif(int(row[\"white_rating\"])<int(row[\"black_rating\"] and row[\"winner\"]==\"black\")):\n",
    "        blackBetter+=1\n",
    "    elif(int(row[\"white_rating\"])<int(row[\"black_rating\"] and row[\"winner\"]==\"white\")):\n",
    "        whiteWorse+=1\n",
    "    elif((int(row[\"white_rating\"])>int(row[\"black_rating\"]) and row[\"winner\"]==\"black\")):\n",
    "        blackWorse+=1\n",
    "ratingWinDb=pd.DataFrame({\"rating\": [\"Better Rated Won\", \"Worse Rated Won\"], \n",
    "                        \"y\":[whiteBetter+blackBetter, blackWorse+whiteWorse]})\n",
    "(ggplot(ratingWinDb, aes(x=\"rating\", weight=\"y\", fill=\"rating\"))+geom_bar()+theme_minimal())\n",
    "\n"
   ]
  },
  {
   "cell_type": "code",
   "execution_count": 5,
   "id": "5cfc6688",
   "metadata": {},
   "outputs": [
    {
     "name": "stdout",
     "output_type": "stream",
     "text": [
      "67.18460588598477% of better rated players won in their matchup vs a worse rated player\n"
     ]
    }
   ],
   "source": [
    "total=whiteBetter+blackBetter+blackWorse+whiteWorse\n",
    "percent=float(((whiteBetter+blackBetter)/total)*100)\n",
    "print(str(percent)+\"% of better rated players won in their matchup vs a worse rated player\")"
   ]
  },
  {
   "cell_type": "markdown",
   "id": "e8639395",
   "metadata": {},
   "source": [
    "This shows that a players rating is a big factor in determining whether a player will win in a matchup. The problem with this is that ratings don't carry over to playing on different sites or playing someone in real life. "
   ]
  },
  {
   "cell_type": "markdown",
   "id": "afade827",
   "metadata": {},
   "source": [
    "## Victory Status"
   ]
  },
  {
   "cell_type": "code",
   "execution_count": 9,
   "id": "49bbb02e",
   "metadata": {},
   "outputs": [
    {
     "data": {
      "image/png": "[encoded data removed]",
      "text/plain": [
       "<Figure size 640x480 with 1 Axes>"
      ]
     },
     "metadata": {
      "needs_background": "light"
     },
     "output_type": "display_data"
    },
    {
     "data": {
      "text/plain": [
       "<ggplot: (141528839912)>"
      ]
     },
     "execution_count": 9,
     "metadata": {},
     "output_type": "execute_result"
    }
   ],
   "source": [
    "ggplot(db) + aes(x=\"victory_status\", fill=\"victory_status\") + geom_bar() + theme_minimal()"
   ]
  },
  {
   "cell_type": "code",
   "execution_count": 5,
   "id": "3dbd8775",
   "metadata": {},
   "outputs": [],
   "source": [
    "victory = db[\"victory_status\"]\n",
    "victory_count = victory.value_counts()"
   ]
  },
  {
   "cell_type": "code",
   "execution_count": 6,
   "id": "0a046317",
   "metadata": {},
   "outputs": [
    {
     "name": "stdout",
     "output_type": "stream",
     "text": [
      "resign       11147\n",
      "mate          6325\n",
      "outoftime     1680\n",
      "draw           906\n",
      "Name: victory_status, dtype: int64\n"
     ]
    }
   ],
   "source": [
    "print(victory_count)"
   ]
  },
  {
   "cell_type": "code",
   "execution_count": 7,
   "id": "7d59d641",
   "metadata": {},
   "outputs": [
    {
     "data": {
      "text/plain": [
       "<AxesSubplot:ylabel='victory_status'>"
      ]
     },
     "execution_count": 7,
     "metadata": {},
     "output_type": "execute_result"
    },
    {
     "data": {
      "image/png": "[encoded data removed]",
      "text/plain": [
       "<Figure size 432x288 with 1 Axes>"
      ]
     },
     "metadata": {},
     "output_type": "display_data"
    }
   ],
   "source": [
    "victory_count.plot(kind='pie')"
   ]
  },
  {
   "cell_type": "markdown",
   "id": "665d2a4f",
   "metadata": {},
   "source": [
    "Representing the overall victory status in the game. 55.57% of the victory status for players were from resigns. This is probably due to most players resigning when they are at a point of disadvantage where they cannot come back rather than letting themselves get checkmated at the end for quicker games. 31.53% were checkmates. 8.38% was either black or white running out of time. 4.52% were draws."
   ]
  },
  {
   "cell_type": "markdown",
   "id": "399f873a",
   "metadata": {},
   "source": [
    "## Number of turns"
   ]
  },
  {
   "cell_type": "code",
   "execution_count": 8,
   "id": "78606c28",
   "metadata": {},
   "outputs": [
    {
     "data": {
      "image/png": "[encoded data removed]",
      "text/plain": [
       "<Figure size 640x480 with 1 Axes>"
      ]
     },
     "metadata": {
      "needs_background": "light"
     },
     "output_type": "display_data"
    },
    {
     "data": {
      "text/plain": [
       "<ggplot: (141528828892)>"
      ]
     },
     "execution_count": 8,
     "metadata": {},
     "output_type": "execute_result"
    }
   ],
   "source": [
    "ggplot(db) + aes(x=\"turns\", fill=\"turns\") + geom_bar() + theme_minimal()"
   ]
  },
  {
   "cell_type": "markdown",
   "id": "eccb2862",
   "metadata": {},
   "source": [
    "Calculating average turns per game"
   ]
  },
  {
   "cell_type": "code",
   "execution_count": 10,
   "id": "aa2bfdc0",
   "metadata": {},
   "outputs": [
    {
     "data": {
      "text/plain": [
       "60.46599860404826"
      ]
     },
     "execution_count": 10,
     "metadata": {},
     "output_type": "execute_result"
    }
   ],
   "source": [
    "db2 = db[\"turns\"].mean()\n",
    "db2"
   ]
  },
  {
   "cell_type": "markdown",
   "id": "867f6f6a",
   "metadata": {},
   "source": [
    "Calculating average moves for each player's opening phase which is around 4-5 moves."
   ]
  },
  {
   "cell_type": "code",
   "execution_count": 11,
   "id": "2f9107be",
   "metadata": {},
   "outputs": [
    {
     "data": {
      "text/plain": [
       "4.8169807558081565"
      ]
     },
     "execution_count": 11,
     "metadata": {},
     "output_type": "execute_result"
    }
   ],
   "source": [
    "db3 = db[\"opening_ply\"].mean()\n",
    "db3"
   ]
  },
  {
   "cell_type": "markdown",
   "id": "0ad5328d",
   "metadata": {},
   "source": [
    "## Predicting who will win a game based off of the first couple moves"
   ]
  },
  {
   "cell_type": "markdown",
   "id": "eb0ff7b4",
   "metadata": {},
   "source": [
    "### Getting data ready"
   ]
  },
  {
   "cell_type": "code",
   "execution_count": 17,
   "id": "0dfc2b34",
   "metadata": {},
   "outputs": [],
   "source": [
    "db[\"winner\"] = db[\"winner\"].astype('category')\n",
    "db['winner_code']=db[\"winner\"].cat.codes\n",
    "\n",
    "db[\"opening_eco\"]=db[\"opening_eco\"].astype('category')\n",
    "db[\"opening_eco_code\"]=db[\"opening_eco\"].cat.codes\n",
    "\n",
    "db[\"opening_name\"]=db[\"opening_name\"].astype('category')\n",
    "db[\"opening_name_code\"]=db[\"opening_name\"].cat.codes\n",
    "\n",
    "db[\"victory_status\"]=db[\"victory_status\"].astype('category')\n",
    "db[\"victory_status_code\"]=db[\"victory_status\"].cat.codes\n",
    "\n",
    "db[\"increment_code\"]=db[\"increment_code\"].astype('category')\n",
    "db[\"increment_code_num\"]=db[\"increment_code\"].cat.codes"
   ]
  },
  {
   "cell_type": "code",
   "execution_count": 8,
   "id": "24fb4cff",
   "metadata": {},
   "outputs": [],
   "source": [
    "predictors=[\"turns\",\"opening_ply\", \"opening_eco_code\", \"opening_name_code\", \"victory_status_code\", \"increment_code_num\" ]\n"
   ]
  },
  {
   "cell_type": "code",
   "execution_count": 9,
   "id": "e04a00ce",
   "metadata": {},
   "outputs": [
    {
     "data": {
      "text/plain": [
       "16046"
      ]
     },
     "execution_count": 9,
     "metadata": {},
     "output_type": "execute_result"
    }
   ],
   "source": [
    "x_train, x_test, y_train, y_test =train_test_split(db[predictors], db[\"winner_code\"], test_size=.2)"
   ]
  },
  {
   "cell_type": "markdown",
   "id": "2011f3fc",
   "metadata": {},
   "source": [
    "### Building and testing model"
   ]
  },
  {
   "cell_type": "code",
   "execution_count": 11,
   "id": "3c31eca7",
   "metadata": {},
   "outputs": [],
   "source": [
    "clf = svm.SVC(kernel='linear')\n",
    "\n"
   ]
  },
  {
   "cell_type": "code",
   "execution_count": 12,
   "id": "e63237f2",
   "metadata": {},
   "outputs": [
    {
     "data": {
      "text/plain": [
       "SVC(kernel='linear')"
      ]
     },
     "execution_count": 12,
     "metadata": {},
     "output_type": "execute_result"
    }
   ],
   "source": [
    "clf.fit(x_train, y_train)\n"
   ]
  },
  {
   "cell_type": "code",
   "execution_count": 13,
   "id": "e5ad5688",
   "metadata": {},
   "outputs": [],
   "source": [
    "y_pred = clf.predict(x_test)"
   ]
  },
  {
   "cell_type": "code",
   "execution_count": 14,
   "id": "7e913c38",
   "metadata": {},
   "outputs": [
    {
     "name": "stdout",
     "output_type": "stream",
     "text": [
      "Accuracy: 0.5396311066799602\n"
     ]
    }
   ],
   "source": [
    "print(\"Accuracy:\",metrics.accuracy_score(y_test, y_pred))"
   ]
  },
  {
   "cell_type": "markdown",
   "id": "18da55c3",
   "metadata": {},
   "source": [
    "This accuracy isn't very high and is only slightly better than guessing. Adding the rating can make it a little better. This also shows that opening moves are not the best way to predict the winner as its only slightly better than guessing"
   ]
  },
  {
   "cell_type": "markdown",
   "id": "9333da4b",
   "metadata": {},
   "source": [
    "### Adding the ratings of the players to improve the model"
   ]
  },
  {
   "cell_type": "code",
   "execution_count": 15,
   "id": "0837389f",
   "metadata": {},
   "outputs": [],
   "source": [
    "predictors=[\"turns\",\"opening_ply\", \"opening_eco_code\", \"opening_name_code\", \"victory_status_code\", \"increment_code_num\", \n",
    "           \"white_rating\", \"black_rating\"]\n",
    "x_train, x_test, y_train, y_test =train_test_split(db[predictors], db[\"winner_code\"], test_size=.2)"
   ]
  },
  {
   "cell_type": "code",
   "execution_count": 16,
   "id": "f93096de",
   "metadata": {},
   "outputs": [],
   "source": [
    "clf = svm.SVC(kernel='linear')"
   ]
  },
  {
   "cell_type": "code",
   "execution_count": 17,
   "id": "496f47dc",
   "metadata": {},
   "outputs": [
    {
     "data": {
      "text/plain": [
       "SVC(kernel='linear')"
      ]
     },
     "execution_count": 17,
     "metadata": {},
     "output_type": "execute_result"
    }
   ],
   "source": [
    "clf.fit(x_train, y_train)\n"
   ]
  },
  {
   "cell_type": "code",
   "execution_count": 18,
   "id": "043e852b",
   "metadata": {},
   "outputs": [],
   "source": [
    "y_pred = clf.predict(x_test)"
   ]
  },
  {
   "cell_type": "code",
   "execution_count": 19,
   "id": "18f90e98",
   "metadata": {},
   "outputs": [
    {
     "name": "stdout",
     "output_type": "stream",
     "text": [
      "Accuracy: 0.6707377866400798\n"
     ]
    }
   ],
   "source": [
    "print(\"Accuracy:\",metrics.accuracy_score(y_test, y_pred))"
   ]
  },
  {
   "cell_type": "markdown",
   "id": "4bceaa0f",
   "metadata": {},
   "source": [
    "I can see that the accuracy improved once the ratings were added of each player. This makes sense as we saw there was a correlation with ratings and who wins the game. However, ratings are only relevant on this site and don't transfer over when a game is played on a different site or in real life. This concludes that the opening play is not the best metric to predict who the winner of a game will be"
   ]
  },
  {
   "cell_type": "markdown",
   "id": "9b5773d6",
   "metadata": {},
   "source": [
    "## Guessing the skill level of a player based on the turns"
   ]
  },
  {
   "cell_type": "markdown",
   "id": "81f3c3bb",
   "metadata": {},
   "source": [
    "### Setting Skill Boundaries"
   ]
  },
  {
   "cell_type": "code",
   "execution_count": 19,
   "id": "3752ad63",
   "metadata": {},
   "outputs": [],
   "source": [
    "ELOconditionsW = [\n",
    "    (db['white_rating'] >= 0) & (db['white_rating'] <= 1450),\n",
    "    (db['white_rating'] >= 1451) & (db['white_rating'] <= 1700),\n",
    "    (db['white_rating'] >= 1701)\n",
    "    ]\n",
    "\n",
    "ELOconditionsB = [\n",
    "    (db['black_rating'] >= 0) & (db['black_rating'] <= 1450),\n",
    "    (db['black_rating'] >= 1451) & (db['black_rating'] <= 1700),\n",
    "    (db['black_rating'] >= 1701)\n",
    "    ]\n",
    "\n",
    "values = ['0', '1', '2']\n",
    "\n",
    "db['tierW'] = np.select(ELOconditionsW, values)\n",
    "db['tierB'] = np.select(ELOconditionsB, values)\n",
    "\n",
    "db['tierW'] = db['tierW'].astype(str).astype('category')\n",
    "db['tierWcode'] = db['tierW'].cat.codes\n",
    "db['tierB'] = db['tierB'].astype(str).astype('category')\n",
    "db['tierBcode'] = db['tierB'].cat.codes\n",
    "\n",
    "\n",
    "\n",
    "\n",
    "#db[['black_rating','white_rating','tierB','tierW','winner']].iloc[0:25]\n",
    "\n",
    "counter =0\n",
    "for i in db['tierW']:\n",
    "    if i == '2':\n",
    "        counter +=1"
   ]
  },
  {
   "cell_type": "markdown",
   "id": "c3dda2d2",
   "metadata": {},
   "source": [
    "### Creating Model"
   ]
  },
  {
   "cell_type": "code",
   "execution_count": 22,
   "id": "7996212f",
   "metadata": {},
   "outputs": [],
   "source": [
    "predictors=[\"opening_eco_code\",\"turns\"]\n",
    "\n",
    "X_train, X_test, y_train, y_test = train_test_split(db[predictors], db[\"tierWcode\"], test_size=0.2)\n",
    "\n",
    "\n",
    "zscore = StandardScaler()\n",
    "zscore.fit(X_train)\n",
    "\n",
    "Xz_train = zscore.transform(X_train)\n",
    "Xz_test = zscore.transform(X_test)\n",
    "\n",
    "myLogit = LogisticRegression(penalty = \"none\") # create\n",
    "\n",
    "myLogit.fit(Xz_train, y_train) #fit\n",
    "\n",
    "predictedVals = myLogit.predict(Xz_test)# predict"
   ]
  },
  {
   "cell_type": "code",
   "execution_count": 25,
   "id": "2489839a",
   "metadata": {},
   "outputs": [
    {
     "data": {
      "text/plain": [
       "0.3905782652043868"
      ]
     },
     "execution_count": 25,
     "metadata": {},
     "output_type": "execute_result"
    }
   ],
   "source": [
    "accuracy_score(y_test,predictedVals)"
   ]
  },
  {
   "cell_type": "code",
   "execution_count": 26,
   "id": "a2b76707",
   "metadata": {},
   "outputs": [
    {
     "data": {
      "text/plain": [
       "<sklearn.metrics._plot.confusion_matrix.ConfusionMatrixDisplay at 0x20f44d3b2b0>"
      ]
     },
     "execution_count": 26,
     "metadata": {},
     "output_type": "execute_result"
    },
    {
     "data": {
      "image/png": "[encoded data removed]",
      "text/plain": [
       "<Figure size 432x288 with 2 Axes>"
      ]
     },
     "metadata": {
      "needs_background": "light"
     },
     "output_type": "display_data"
    }
   ],
   "source": [
    "plot_confusion_matrix(myLogit, Xz_test, y_test)"
   ]
  },
  {
   "cell_type": "markdown",
   "id": "a3da75ed",
   "metadata": {},
   "source": [
    "As can be seen in this result and the confusion matrix, this model did not work at all. It is the same as guessing accuracy. This makes sense as we didn't expect there to be any correlation"
   ]
  },
  {
   "cell_type": "markdown",
   "id": "d02f821d",
   "metadata": {},
   "source": [
    "## Linear Regression to predict the number of turns"
   ]
  },
  {
   "cell_type": "code",
   "execution_count": 27,
   "id": "b37a9899",
   "metadata": {},
   "outputs": [],
   "source": [
    "predictors=[\"white_rating\",\"opening_eco_code\",\"black_rating\",\"rated\"]\n",
    "X = db[predictors]\n",
    "Y = db[\"turns\"]"
   ]
  },
  {
   "cell_type": "code",
   "execution_count": 28,
   "id": "4d70194f",
   "metadata": {},
   "outputs": [],
   "source": [
    "zScore = StandardScaler()\n",
    "zScore.fit(X)\n",
    "\n",
    "Xz = zScore.transform(X)"
   ]
  },
  {
   "cell_type": "code",
   "execution_count": 31,
   "id": "52048368",
   "metadata": {},
   "outputs": [
    {
     "data": {
      "text/plain": [
       "array([54.98485344, 60.29391915, 59.90548474, 60.16981872, 43.72405556,\n",
       "       59.88312168, 60.57102579, 58.65747181, 54.559722  ])"
      ]
     },
     "execution_count": 31,
     "metadata": {},
     "output_type": "execute_result"
    }
   ],
   "source": [
    "LR_Model1 = LinearRegression()\n",
    "LR_Model1.fit(Xz, Y)\n",
    "turn_pred = LR_Model1.predict(Xz)\n",
    "\n",
    "turn_pred[1:10]"
   ]
  },
  {
   "cell_type": "code",
   "execution_count": 35,
   "id": "88d5df12",
   "metadata": {},
   "outputs": [
    {
     "data": {
      "text/plain": [
       "1087.5010117572097"
      ]
     },
     "execution_count": 35,
     "metadata": {},
     "output_type": "execute_result"
    }
   ],
   "source": [
    "mean_squared_error(Y, turn_pred)"
   ]
  },
  {
   "cell_type": "code",
   "execution_count": 36,
   "id": "a247b737",
   "metadata": {},
   "outputs": [
    {
     "data": {
      "text/plain": [
       "0.03498623120915423"
      ]
     },
     "execution_count": 36,
     "metadata": {},
     "output_type": "execute_result"
    }
   ],
   "source": [
    "r2_score(Y, turn_pred)"
   ]
  },
  {
   "cell_type": "code",
   "execution_count": 37,
   "id": "74ce4563",
   "metadata": {},
   "outputs": [
    {
     "data": {
      "image/png": "[encoded data removed]",
      "text/plain": [
       "<Figure size 640x480 with 1 Axes>"
      ]
     },
     "metadata": {
      "needs_background": "light"
     },
     "output_type": "display_data"
    },
    {
     "data": {
      "text/plain": [
       "<ggplot: (141535552178)>"
      ]
     },
     "execution_count": 37,
     "metadata": {},
     "output_type": "execute_result"
    }
   ],
   "source": [
    "assump = pd.DataFrame({\"error\":Y - turn_pred, \"predicted\": turn_pred})\n",
    "\n",
    "(ggplot(assump, aes(x = \"predicted\", y = \"error\")) + geom_point() + theme_minimal())"
   ]
  },
  {
   "cell_type": "code",
   "execution_count": 38,
   "id": "7925a85c",
   "metadata": {},
   "outputs": [
    {
     "data": {
      "text/html": [
       "<div>\n",
       "<style scoped>\n",
       "    .dataframe tbody tr th:only-of-type {\n",
       "        vertical-align: middle;\n",
       "    }\n",
       "\n",
       "    .dataframe tbody tr th {\n",
       "        vertical-align: top;\n",
       "    }\n",
       "\n",
       "    .dataframe thead th {\n",
       "        text-align: right;\n",
       "    }\n",
       "</style>\n",
       "<table border=\"1\" class=\"dataframe\">\n",
       "  <thead>\n",
       "    <tr style=\"text-align: right;\">\n",
       "      <th></th>\n",
       "      <th>Coef</th>\n",
       "      <th>Name</th>\n",
       "    </tr>\n",
       "  </thead>\n",
       "  <tbody>\n",
       "    <tr>\n",
       "      <th>0</th>\n",
       "      <td>1.609720</td>\n",
       "      <td>white_rating</td>\n",
       "    </tr>\n",
       "    <tr>\n",
       "      <th>1</th>\n",
       "      <td>0.730047</td>\n",
       "      <td>opening_eco_code</td>\n",
       "    </tr>\n",
       "    <tr>\n",
       "      <th>2</th>\n",
       "      <td>4.252257</td>\n",
       "      <td>black_rating</td>\n",
       "    </tr>\n",
       "    <tr>\n",
       "      <th>3</th>\n",
       "      <td>2.886926</td>\n",
       "      <td>rated</td>\n",
       "    </tr>\n",
       "    <tr>\n",
       "      <th>4</th>\n",
       "      <td>60.465999</td>\n",
       "      <td>intercept</td>\n",
       "    </tr>\n",
       "  </tbody>\n",
       "</table>\n",
       "</div>"
      ],
      "text/plain": [
       "        Coef              Name\n",
       "0   1.609720      white_rating\n",
       "1   0.730047  opening_eco_code\n",
       "2   4.252257      black_rating\n",
       "3   2.886926             rated\n",
       "4  60.465999         intercept"
      ]
     },
     "execution_count": 38,
     "metadata": {},
     "output_type": "execute_result"
    }
   ],
   "source": [
    "coefficients = pd.DataFrame({\"Coef\":LR_Model1.coef_,\n",
    "              \"Name\": predictors})\n",
    "coefficients = coefficients.append({\"Coef\": LR_Model1.intercept_,\n",
    "                    \"Name\": \"intercept\"}, ignore_index = True)\n",
    "\n",
    "coefficients"
   ]
  },
  {
   "cell_type": "markdown",
   "id": "bd1e5ab7",
   "metadata": {},
   "source": [
    "There wasn't much of a correlation between the figuring out the number of turns. The main correlations I could see is through the rating of the players. It makes sense that the better rated players take longer to end their games"
   ]
  },
  {
   "cell_type": "markdown",
   "id": "9b0a4351",
   "metadata": {},
   "source": [
    "## Feed forward Neural Network "
   ]
  },
  {
   "cell_type": "markdown",
   "id": "7f7abc12",
   "metadata": {},
   "source": [
    "Trying to improve guessing the rating of the white player"
   ]
  },
  {
   "cell_type": "code",
   "execution_count": 43,
   "id": "ec1879b8",
   "metadata": {},
   "outputs": [
    {
     "name": "stdout",
     "output_type": "stream",
     "text": [
      "0\n",
      "(None, 2) <dtype: 'float32'>\n",
      "(None, 1) <dtype: 'float32'>\n",
      "dense_4 (None, 2) float32\n",
      "dense_5 (None, 4) float32\n",
      "dense_6 (None, 5) float32\n",
      "dense_7 (None, 16) float32\n",
      "Epoch 1/10\n",
      "29/29 [==============================] - 0s 4ms/step - loss: 0.0000e+00 - accuracy: 0.3434 - val_loss: 0.0000e+00 - val_accuracy: 0.3613\n",
      "Epoch 2/10\n",
      "29/29 [==============================] - 0s 1ms/step - loss: 0.0000e+00 - accuracy: 0.3458 - val_loss: 0.0000e+00 - val_accuracy: 0.3547\n",
      "Epoch 3/10\n",
      "29/29 [==============================] - 0s 1ms/step - loss: 0.0000e+00 - accuracy: 0.3451 - val_loss: 0.0000e+00 - val_accuracy: 0.3547\n",
      "Epoch 4/10\n",
      "29/29 [==============================] - 0s 1ms/step - loss: 0.0000e+00 - accuracy: 0.3451 - val_loss: 0.0000e+00 - val_accuracy: 0.3547\n",
      "Epoch 5/10\n",
      "29/29 [==============================] - 0s 2ms/step - loss: 0.0000e+00 - accuracy: 0.3451 - val_loss: 0.0000e+00 - val_accuracy: 0.3547\n",
      "Epoch 6/10\n",
      "29/29 [==============================] - 0s 1ms/step - loss: 0.0000e+00 - accuracy: 0.3451 - val_loss: 0.0000e+00 - val_accuracy: 0.3547\n",
      "Epoch 7/10\n",
      "29/29 [==============================] - 0s 1ms/step - loss: 0.0000e+00 - accuracy: 0.3451 - val_loss: 0.0000e+00 - val_accuracy: 0.3547\n",
      "Epoch 8/10\n",
      "29/29 [==============================] - 0s 1ms/step - loss: 0.0000e+00 - accuracy: 0.3451 - val_loss: 0.0000e+00 - val_accuracy: 0.3547\n",
      "Epoch 9/10\n",
      "29/29 [==============================] - 0s 1ms/step - loss: 0.0000e+00 - accuracy: 0.3451 - val_loss: 0.0000e+00 - val_accuracy: 0.3547\n",
      "Epoch 10/10\n",
      "29/29 [==============================] - 0s 1ms/step - loss: 0.0000e+00 - accuracy: 0.3451 - val_loss: 0.0000e+00 - val_accuracy: 0.3547\n",
      "126/126 [==============================] - 0s 527us/step - loss: 0.0000e+00 - accuracy: 0.3402\n"
     ]
    },
    {
     "data": {
      "text/plain": [
       "[0.0, 0.3402293026447296]"
      ]
     },
     "execution_count": 43,
     "metadata": {},
     "output_type": "execute_result"
    }
   ],
   "source": [
    "db.head(50)\n",
    "counter =0\n",
    "for i in db['tierW']:\n",
    "    if i == '3':\n",
    "        counter +=1\n",
    "        \n",
    "print(counter)\n",
    "\n",
    "\n",
    "db[\"winner\"] = db[\"winner\"].astype('category')\n",
    "db['winner_code']=db[\"winner\"].cat.codes\n",
    "\n",
    "db[\"opening_eco\"]=db[\"opening_eco\"].astype('category')\n",
    "db[\"opening_eco_code\"]=db[\"opening_eco\"].cat.codes\n",
    "\n",
    "db[\"opening_name\"]=db[\"opening_name\"].astype('category')\n",
    "db[\"opening_name_code\"]=db[\"opening_name\"].cat.codes\n",
    "\n",
    "db[\"victory_status\"]=db[\"victory_status\"].astype('category')\n",
    "db[\"victory_status_code\"]=db[\"victory_status\"].cat.codes\n",
    "\n",
    "db[\"increment_code\"]=db[\"increment_code\"].astype('category')\n",
    "db[\"increment_code_num\"]=db[\"increment_code\"].cat.codes\n",
    "\n",
    "\n",
    "\n",
    "#X=db[predictors].values.to_list()\n",
    "\n",
    "#y=db[\"tierW\"].values.to_list()\n",
    "\n",
    "#db = pd.DataFrame(db)\n",
    "\n",
    "#db = np.asarray(db[\"tierW\"]).astype('float32')\n",
    "#db = np.asarray(db[\"tierB\"]).astype('float32')\n",
    "\n",
    "\n",
    "predictors=[\"opening_eco_code\",\"turns\"]\n",
    "#predictors=[\"turns\", \"opening_ply\"]\n",
    "db.shape\n",
    "db.dtypes\n",
    "\n",
    "\n",
    "x_train, x_test, y_train, y_test =train_test_split(db[predictors], db[\"tierWcode\"], test_size=.2)\n",
    "x_train= x_train.to_numpy()\n",
    "x_test = x_test.to_numpy()\n",
    "y_train = y_train.to_numpy()\n",
    "y_test = y_test.to_numpy()\n",
    "\n",
    "len(x_train)\n",
    "\n",
    "x_val=x_train[:1500]\n",
    "partial_x_train = x_train[1500:]\n",
    "y_val=y_train[:1500]\n",
    "partial_y_train = y_train[1500: ]\n",
    "\n",
    "model=models.Sequential()\n",
    "model.add(layers.Dense(4, activation = 'relu', input_shape=(2,)))\n",
    "model.add(layers.Dense(5, activation = 'relu'))\n",
    "model.add(layers.Dense(16, activation = 'relu'))\n",
    "model.add(layers.Dense(1, activation= 'sigmoid'))\n",
    "\n",
    "model.compile(loss='categorical_crossentropy', optimizer='adam', metrics=['accuracy'])\n",
    "#categorical cross entropy\n",
    "#output layer give threee layers\n",
    "#sigmoid to softmax\n",
    "\n",
    "\n",
    "[print(i.shape, i.dtype) for i in model.inputs]\n",
    "[print(o.shape, o.dtype) for o in model.outputs]\n",
    "[print(l.name, l.input_shape, l.dtype) for l in model.layers]\n",
    "\n",
    "history = model.fit(partial_x_train,\n",
    "                    partial_y_train,\n",
    "                    epochs=10,\n",
    "                    batch_size=512,\n",
    "                    validation_data=(x_val, y_val))\n",
    "results=model.evaluate(x_test, y_test)\n",
    "results\n"
   ]
  },
  {
   "cell_type": "markdown",
   "id": "62937601",
   "metadata": {},
   "source": [
    "This is also guessing accuracy. Concluding that there isn't much of a correlation to the tier of a player. It isn't the fault of the model"
   ]
  },
  {
   "cell_type": "markdown",
   "id": "a7961136",
   "metadata": {},
   "source": [
    "## Guessing the next move with Feed Forward Neural Network"
   ]
  },
  {
   "cell_type": "code",
   "execution_count": 101,
   "id": "e25d534f",
   "metadata": {},
   "outputs": [],
   "source": [
    "data = {'Move1':[],\n",
    "        'Move2':[]}\n",
    "moveDf = pd.DataFrame(data)\n"
   ]
  },
  {
   "cell_type": "code",
   "execution_count": 102,
   "id": "cb06e311",
   "metadata": {},
   "outputs": [
    {
     "data": {
      "text/html": [
       "<div>\n",
       "<style scoped>\n",
       "    .dataframe tbody tr th:only-of-type {\n",
       "        vertical-align: middle;\n",
       "    }\n",
       "\n",
       "    .dataframe tbody tr th {\n",
       "        vertical-align: top;\n",
       "    }\n",
       "\n",
       "    .dataframe thead th {\n",
       "        text-align: right;\n",
       "    }\n",
       "</style>\n",
       "<table border=\"1\" class=\"dataframe\">\n",
       "  <thead>\n",
       "    <tr style=\"text-align: right;\">\n",
       "      <th></th>\n",
       "      <th>Move1</th>\n",
       "      <th>Move2</th>\n",
       "    </tr>\n",
       "  </thead>\n",
       "  <tbody>\n",
       "  </tbody>\n",
       "</table>\n",
       "</div>"
      ],
      "text/plain": [
       "Empty DataFrame\n",
       "Columns: [Move1, Move2]\n",
       "Index: []"
      ]
     },
     "execution_count": 102,
     "metadata": {},
     "output_type": "execute_result"
    }
   ],
   "source": [
    "moveDf.head()"
   ]
  },
  {
   "cell_type": "markdown",
   "id": "136078a7",
   "metadata": {},
   "source": [
    "This takes a couple hours to make this dataset, for a shortcut use the block that will load in the premade dataset that has been made before"
   ]
  },
  {
   "cell_type": "code",
   "execution_count": 103,
   "id": "6eb41cc8",
   "metadata": {},
   "outputs": [],
   "source": [
    "counter=0\n",
    "for i in db[\"moves\"] :\n",
    "    moves=i.split(\" \")\n",
    "    #print(moves)\n",
    "    counter=0\n",
    "    temp=[]\n",
    "    for j in moves:\n",
    "        temp.append(j)\n",
    "        if(counter%2==1):\n",
    "            moveDf=moveDf.append({'Move1':temp[counter-1], 'Move2':temp[counter]}, ignore_index=True)\n",
    "            #print(moveDf.head())\n",
    "        counter+=1\n",
    "    "
   ]
  },
  {
   "cell_type": "code",
   "execution_count": null,
   "id": "5fa1d80b",
   "metadata": {},
   "outputs": [],
   "source": [
    "moveDf[\"Move1\"] = moveDf[\"Move1\"].astype('category')\n",
    "moveDf[\"Move1Code\"]=moveDf[\"Move1\"].cat.codes\n",
    "\n",
    "moveDf[\"Move2\"] = moveDf[\"Move2\"].astype('category')\n",
    "moveDf[\"Move2Code\"] = moveDf[\"Move2\"].cat.codes"
   ]
  },
  {
   "cell_type": "code",
   "execution_count": 4,
   "id": "f8b649e9",
   "metadata": {},
   "outputs": [
    {
     "data": {
      "text/html": [
       "<div>\n",
       "<style scoped>\n",
       "    .dataframe tbody tr th:only-of-type {\n",
       "        vertical-align: middle;\n",
       "    }\n",
       "\n",
       "    .dataframe tbody tr th {\n",
       "        vertical-align: top;\n",
       "    }\n",
       "\n",
       "    .dataframe thead th {\n",
       "        text-align: right;\n",
       "    }\n",
       "</style>\n",
       "<table border=\"1\" class=\"dataframe\">\n",
       "  <thead>\n",
       "    <tr style=\"text-align: right;\">\n",
       "      <th></th>\n",
       "      <th>Move1</th>\n",
       "      <th>Move2</th>\n",
       "      <th>Move1Code</th>\n",
       "      <th>Move2Code</th>\n",
       "      <th>PreviousMove2Code</th>\n",
       "    </tr>\n",
       "  </thead>\n",
       "  <tbody>\n",
       "    <tr>\n",
       "      <th>0</th>\n",
       "      <td>d4</td>\n",
       "      <td>d5</td>\n",
       "      <td>2675</td>\n",
       "      <td>2997</td>\n",
       "      <td>0.0</td>\n",
       "    </tr>\n",
       "    <tr>\n",
       "      <th>1</th>\n",
       "      <td>c4</td>\n",
       "      <td>c6</td>\n",
       "      <td>2635</td>\n",
       "      <td>2955</td>\n",
       "      <td>2997.0</td>\n",
       "    </tr>\n",
       "    <tr>\n",
       "      <th>2</th>\n",
       "      <td>cxd5</td>\n",
       "      <td>e6</td>\n",
       "      <td>2665</td>\n",
       "      <td>3042</td>\n",
       "      <td>2955.0</td>\n",
       "    </tr>\n",
       "    <tr>\n",
       "      <th>3</th>\n",
       "      <td>dxe6</td>\n",
       "      <td>fxe6</td>\n",
       "      <td>2705</td>\n",
       "      <td>3101</td>\n",
       "      <td>3042.0</td>\n",
       "    </tr>\n",
       "    <tr>\n",
       "      <th>4</th>\n",
       "      <td>Nf3</td>\n",
       "      <td>Bb4+</td>\n",
       "      <td>752</td>\n",
       "      <td>27</td>\n",
       "      <td>3101.0</td>\n",
       "    </tr>\n",
       "  </tbody>\n",
       "</table>\n",
       "</div>"
      ],
      "text/plain": [
       "  Move1 Move2  Move1Code  Move2Code  PreviousMove2Code\n",
       "0    d4    d5       2675       2997                0.0\n",
       "1    c4    c6       2635       2955             2997.0\n",
       "2  cxd5    e6       2665       3042             2955.0\n",
       "3  dxe6  fxe6       2705       3101             3042.0\n",
       "4   Nf3  Bb4+        752         27             3101.0"
      ]
     },
     "execution_count": 4,
     "metadata": {},
     "output_type": "execute_result"
    }
   ],
   "source": [
    "moveDf[\"PreviousMove2Code\"]=moveDf[\"Move2Code\"].shift(1)\n",
    "moveDf['PreviousMove2Code'] = moveDf['PreviousMove2Code'].fillna(0)\n",
    "moveDf.head()"
   ]
  },
  {
   "cell_type": "markdown",
   "id": "d7cd522b",
   "metadata": {},
   "source": [
    "**Shortcut**"
   ]
  },
  {
   "cell_type": "code",
   "execution_count": 3,
   "id": "5b6e12c6",
   "metadata": {},
   "outputs": [],
   "source": [
    "moveDf=pd.read_csv(\"moveDf.csv\")"
   ]
  },
  {
   "cell_type": "code",
   "execution_count": 5,
   "id": "1419e8f1",
   "metadata": {},
   "outputs": [
    {
     "data": {
      "text/plain": [
       "601253"
      ]
     },
     "execution_count": 5,
     "metadata": {},
     "output_type": "execute_result"
    }
   ],
   "source": [
    "len(moveDf)"
   ]
  },
  {
   "cell_type": "code",
   "execution_count": 6,
   "id": "6f5973b9",
   "metadata": {},
   "outputs": [
    {
     "data": {
      "text/html": [
       "<div>\n",
       "<style scoped>\n",
       "    .dataframe tbody tr th:only-of-type {\n",
       "        vertical-align: middle;\n",
       "    }\n",
       "\n",
       "    .dataframe tbody tr th {\n",
       "        vertical-align: top;\n",
       "    }\n",
       "\n",
       "    .dataframe thead th {\n",
       "        text-align: right;\n",
       "    }\n",
       "</style>\n",
       "<table border=\"1\" class=\"dataframe\">\n",
       "  <thead>\n",
       "    <tr style=\"text-align: right;\">\n",
       "      <th></th>\n",
       "      <th>Move1</th>\n",
       "      <th>Move2</th>\n",
       "      <th>Move1Code</th>\n",
       "      <th>Move2Code</th>\n",
       "      <th>PreviousMove2Code</th>\n",
       "    </tr>\n",
       "  </thead>\n",
       "  <tbody>\n",
       "    <tr>\n",
       "      <th>0</th>\n",
       "      <td>d4</td>\n",
       "      <td>d5</td>\n",
       "      <td>2675</td>\n",
       "      <td>2997</td>\n",
       "      <td>0.0</td>\n",
       "    </tr>\n",
       "    <tr>\n",
       "      <th>1</th>\n",
       "      <td>c4</td>\n",
       "      <td>c6</td>\n",
       "      <td>2635</td>\n",
       "      <td>2955</td>\n",
       "      <td>2997.0</td>\n",
       "    </tr>\n",
       "    <tr>\n",
       "      <th>2</th>\n",
       "      <td>cxd5</td>\n",
       "      <td>e6</td>\n",
       "      <td>2665</td>\n",
       "      <td>3042</td>\n",
       "      <td>2955.0</td>\n",
       "    </tr>\n",
       "    <tr>\n",
       "      <th>3</th>\n",
       "      <td>dxe6</td>\n",
       "      <td>fxe6</td>\n",
       "      <td>2705</td>\n",
       "      <td>3101</td>\n",
       "      <td>3042.0</td>\n",
       "    </tr>\n",
       "    <tr>\n",
       "      <th>4</th>\n",
       "      <td>Nf3</td>\n",
       "      <td>Bb4+</td>\n",
       "      <td>752</td>\n",
       "      <td>27</td>\n",
       "      <td>3101.0</td>\n",
       "    </tr>\n",
       "  </tbody>\n",
       "</table>\n",
       "</div>"
      ],
      "text/plain": [
       "  Move1 Move2  Move1Code  Move2Code  PreviousMove2Code\n",
       "0    d4    d5       2675       2997                0.0\n",
       "1    c4    c6       2635       2955             2997.0\n",
       "2  cxd5    e6       2665       3042             2955.0\n",
       "3  dxe6  fxe6       2705       3101             3042.0\n",
       "4   Nf3  Bb4+        752         27             3101.0"
      ]
     },
     "execution_count": 6,
     "metadata": {},
     "output_type": "execute_result"
    }
   ],
   "source": [
    "moveDf.head()"
   ]
  },
  {
   "cell_type": "code",
   "execution_count": 7,
   "id": "27bab90e",
   "metadata": {},
   "outputs": [],
   "source": [
    "predictors=[\"Move1Code\", \"PreviousMove2Code\"]"
   ]
  },
  {
   "cell_type": "code",
   "execution_count": 8,
   "id": "38665d10",
   "metadata": {},
   "outputs": [],
   "source": [
    "x_train, x_test, y_train, y_test =train_test_split(moveDf[predictors], moveDf[\"Move2Code\"], test_size=.2)"
   ]
  },
  {
   "cell_type": "code",
   "execution_count": 9,
   "id": "a95fc40a",
   "metadata": {},
   "outputs": [],
   "source": [
    "x_val=x_train[:50000]\n",
    "partial_x_train = x_train[50000:]\n",
    "y_val=y_train[:50000]\n",
    "partial_y_train = y_train[50000: ]"
   ]
  },
  {
   "cell_type": "code",
   "execution_count": 23,
   "id": "7d51350a",
   "metadata": {},
   "outputs": [
    {
     "data": {
      "text/plain": [
       "<AxesSubplot:ylabel='Density'>"
      ]
     },
     "execution_count": 23,
     "metadata": {},
     "output_type": "execute_result"
    },
    {
     "data": {
      "image/png": "[encoded data removed]",
      "text/plain": [
       "<Figure size 432x288 with 1 Axes>"
      ]
     },
     "metadata": {
      "needs_background": "light"
     },
     "output_type": "display_data"
    }
   ],
   "source": [
    "moveDf.Move1Code.plot.density(color='green')\n"
   ]
  },
  {
   "cell_type": "code",
   "execution_count": 24,
   "id": "0d97e2f0",
   "metadata": {},
   "outputs": [
    {
     "data": {
      "text/plain": [
       "<AxesSubplot:ylabel='Density'>"
      ]
     },
     "execution_count": 24,
     "metadata": {},
     "output_type": "execute_result"
    },
    {
     "data": {
      "image/png": "[encoded data removed]",
      "text/plain": [
       "<Figure size 432x288 with 1 Axes>"
      ]
     },
     "metadata": {
      "needs_background": "light"
     },
     "output_type": "display_data"
    }
   ],
   "source": [
    "moveDf.Move2Code.plot.density(color='green')\n"
   ]
  },
  {
   "cell_type": "code",
   "execution_count": 25,
   "id": "b4319890",
   "metadata": {},
   "outputs": [],
   "source": [
    "clf = svm.SVC(kernel='linear')"
   ]
  },
  {
   "cell_type": "code",
   "execution_count": 10,
   "id": "2c15de4a",
   "metadata": {},
   "outputs": [],
   "source": [
    "from sklearn.svm import SVR\n",
    "regressor = SVR(kernel = 'rbf')"
   ]
  },
  {
   "cell_type": "code",
   "execution_count": 11,
   "id": "a87b1684",
   "metadata": {},
   "outputs": [
    {
     "data": {
      "text/plain": [
       "SVR()"
      ]
     },
     "execution_count": 11,
     "metadata": {},
     "output_type": "execute_result"
    }
   ],
   "source": [
    "regressor.fit(x_train, y_train)"
   ]
  },
  {
   "cell_type": "code",
   "execution_count": 12,
   "id": "4affc9ae",
   "metadata": {},
   "outputs": [],
   "source": [
    "y_predr = regressor.predict(x_test)"
   ]
  },
  {
   "cell_type": "code",
   "execution_count": 20,
   "id": "3f540949",
   "metadata": {},
   "outputs": [
    {
     "data": {
      "text/plain": [
       "array([1629.9714457 , 1366.66999598,  907.14824985, ..., 1325.48792455,\n",
       "       1326.90523942, 2268.83794081])"
      ]
     },
     "execution_count": 20,
     "metadata": {},
     "output_type": "execute_result"
    }
   ],
   "source": [
    "y_predr"
   ]
  },
  {
   "cell_type": "code",
   "execution_count": 44,
   "id": "af004622",
   "metadata": {},
   "outputs": [
    {
     "name": "stdout",
     "output_type": "stream",
     "text": [
      "Mean Absolute Error 983.3078590926864\n"
     ]
    }
   ],
   "source": [
    "print(\"Mean Absolute Error\",metrics.mean_absolute_error(y_test, y_predr))"
   ]
  },
  {
   "cell_type": "code",
   "execution_count": 56,
   "id": "f74a9b35",
   "metadata": {},
   "outputs": [
    {
     "data": {
      "image/png": "[encoded data removed]",
      "text/plain": [
       "<Figure size 640x480 with 1 Axes>"
      ]
     },
     "metadata": {},
     "output_type": "display_data"
    },
    {
     "data": {
      "text/plain": [
       "<ggplot: (110571151267)>"
      ]
     },
     "execution_count": 56,
     "metadata": {},
     "output_type": "execute_result"
    }
   ],
   "source": [
    "(ggplot(moveDf, aes(x=\"Move1Code\", y=\"Move2Code\"))+geom_bin2d())"
   ]
  },
  {
   "cell_type": "code",
   "execution_count": 60,
   "id": "78252f06",
   "metadata": {},
   "outputs": [
    {
     "name": "stdout",
     "output_type": "stream",
     "text": [
      "Epoch 1/20\n",
      "842/842 [==============================] - 1s 1ms/step - loss: 1547.5775 - accuracy: 2.3202e-05 - val_loss: 1550.0104 - val_accuracy: 4.0000e-05\n",
      "Epoch 2/20\n",
      "842/842 [==============================] - 1s 1ms/step - loss: 1547.5786 - accuracy: 2.3202e-05 - val_loss: 1550.0104 - val_accuracy: 4.0000e-05\n",
      "Epoch 3/20\n",
      "842/842 [==============================] - 1s 1ms/step - loss: 1547.5782 - accuracy: 2.3202e-05 - val_loss: 1550.0104 - val_accuracy: 4.0000e-05\n",
      "Epoch 4/20\n",
      "842/842 [==============================] - 1s 1ms/step - loss: 1547.5782 - accuracy: 2.3202e-05 - val_loss: 1550.0104 - val_accuracy: 4.0000e-05\n",
      "Epoch 5/20\n",
      "842/842 [==============================] - 1s 1000us/step - loss: 1547.5775 - accuracy: 2.3202e-05 - val_loss: 1550.0104 - val_accuracy: 4.0000e-05\n",
      "Epoch 6/20\n",
      "842/842 [==============================] - 1s 1ms/step - loss: 1547.5785 - accuracy: 2.3202e-05 - val_loss: 1550.0104 - val_accuracy: 4.0000e-05\n",
      "Epoch 7/20\n",
      "842/842 [==============================] - 1s 995us/step - loss: 1547.5798 - accuracy: 2.3202e-05 - val_loss: 1550.0104 - val_accuracy: 4.0000e-05\n",
      "Epoch 8/20\n",
      "842/842 [==============================] - 1s 990us/step - loss: 1547.5787 - accuracy: 2.3202e-05 - val_loss: 1550.0104 - val_accuracy: 4.0000e-05\n",
      "Epoch 9/20\n",
      "842/842 [==============================] - 1s 989us/step - loss: 1547.5798 - accuracy: 2.3202e-05 - val_loss: 1550.0104 - val_accuracy: 4.0000e-05\n",
      "Epoch 10/20\n",
      "842/842 [==============================] - 1s 992us/step - loss: 1547.5779 - accuracy: 2.3202e-05 - val_loss: 1550.0104 - val_accuracy: 4.0000e-05\n",
      "Epoch 11/20\n",
      "842/842 [==============================] - 1s 994us/step - loss: 1547.5789 - accuracy: 2.3202e-05 - val_loss: 1550.0104 - val_accuracy: 4.0000e-05\n",
      "Epoch 12/20\n",
      "842/842 [==============================] - 1s 1ms/step - loss: 1547.5786 - accuracy: 2.3202e-05 - val_loss: 1550.0104 - val_accuracy: 4.0000e-05\n",
      "Epoch 13/20\n",
      "842/842 [==============================] - 1s 1ms/step - loss: 1547.5778 - accuracy: 2.3202e-05 - val_loss: 1550.0104 - val_accuracy: 4.0000e-05\n",
      "Epoch 14/20\n",
      "842/842 [==============================] - 1s 1ms/step - loss: 1547.5781 - accuracy: 2.3202e-05 - val_loss: 1550.0104 - val_accuracy: 4.0000e-05\n",
      "Epoch 15/20\n",
      "842/842 [==============================] - 1s 993us/step - loss: 1547.5791 - accuracy: 2.3202e-05 - val_loss: 1550.0104 - val_accuracy: 4.0000e-05\n",
      "Epoch 16/20\n",
      "842/842 [==============================] - 1s 994us/step - loss: 1547.5785 - accuracy: 2.3202e-05 - val_loss: 1550.0104 - val_accuracy: 4.0000e-05\n",
      "Epoch 17/20\n",
      "842/842 [==============================] - 1s 994us/step - loss: 1547.5792 - accuracy: 2.3202e-05 - val_loss: 1550.0104 - val_accuracy: 4.0000e-05\n",
      "Epoch 18/20\n",
      "842/842 [==============================] - 1s 1ms/step - loss: 1547.5803 - accuracy: 2.3202e-05 - val_loss: 1550.0104 - val_accuracy: 4.0000e-05\n",
      "Epoch 19/20\n",
      "842/842 [==============================] - 1s 995us/step - loss: 1547.5775 - accuracy: 2.3202e-05 - val_loss: 1550.0104 - val_accuracy: 4.0000e-05\n",
      "Epoch 20/20\n",
      "842/842 [==============================] - 1s 1ms/step - loss: 1547.5793 - accuracy: 2.3202e-05 - val_loss: 1550.0104 - val_accuracy: 4.0000e-05\n",
      "3758/3758 [==============================] - 2s 488us/step - loss: 1541.8372 - accuracy: 1.6632e-05\n"
     ]
    },
    {
     "data": {
      "text/plain": [
       "[1541.837158203125, 1.663187867961824e-05]"
      ]
     },
     "execution_count": 60,
     "metadata": {},
     "output_type": "execute_result"
    }
   ],
   "source": [
    "model=models.Sequential()\n",
    "model.add(layers.Dense(64, activation = 'relu', input_shape=(2,)))\n",
    "model.add(layers.Dense(64, activation = 'relu'))\n",
    "model.add(layers.Dense(64, activation = 'relu'))\n",
    "model.add(layers.Dense(1, activation= 'sigmoid'))\n",
    "\n",
    "model.compile(loss='mean_absolute_error', optimizer='adam', metrics=['accuracy']) \n",
    "\n",
    "history = model.fit(partial_x_train,                    \n",
    "                    partial_y_train,\n",
    "                    epochs=20,\n",
    "                    batch_size=512,\n",
    "                    validation_data=(x_val, y_val))\n",
    "results=model.evaluate(x_test, y_test)\n",
    "results"
   ]
  },
  {
   "cell_type": "code",
   "execution_count": 117,
   "id": "4896e161",
   "metadata": {},
   "outputs": [],
   "source": [
    "moveDf.to_csv('moveDf.csv', index = False, header=True)\n",
    "#saving it so it doesn't have to be built next time"
   ]
  },
  {
   "cell_type": "code",
   "execution_count": 28,
   "id": "96cb0ee7",
   "metadata": {},
   "outputs": [
    {
     "data": {
      "text/plain": [
       "array([[1.]], dtype=float32)"
      ]
     },
     "execution_count": 28,
     "metadata": {},
     "output_type": "execute_result"
    }
   ],
   "source": [
    "model.predict([1000])"
   ]
  },
  {
   "cell_type": "markdown",
   "id": "3362c230",
   "metadata": {},
   "source": [
    "Unfortunately by looking at the distribution, there isn't much of a correlation between whites move and blacks move. This is likely because the feature space is really big. There are 3000 possible moves to retaliate with. In future expiriments an LSTM could work better as it could limit the feature space and would take into account all previous moves rather than just rely the previous move. This would work better as there would be less illegal moves since we know where all the pieces are. This would likely require a much bigger neural network as we would likely need a lot more moves. 20k different games is likely not enough games as there are a multitude of different games. There would also need to be a lot more computing power for all of this to work as I would have to divide every game into a subset of different data points to always predict the next move"
   ]
  },
  {
   "cell_type": "code",
   "execution_count": null,
   "id": "9cc404ca",
   "metadata": {},
   "outputs": [],
   "source": []
  }
 ],
 "metadata": {
  "kernelspec": {
   "display_name": "Python 3 (ipykernel)",
   "language": "python",
   "name": "python3"
  },
  "language_info": {
   "codemirror_mode": {
    "name": "ipython",
    "version": 3
   },
   "file_extension": ".py",
   "mimetype": "text/x-python",
   "name": "python",
   "nbconvert_exporter": "python",
   "pygments_lexer": "ipython3",
   "version": "3.9.4"
  }
 },
 "nbformat": 4,
 "nbformat_minor": 5
}
