{
 "cells": [
  {
   "cell_type": "code",
   "execution_count": 34,
   "id": "9aaac7e9",
   "metadata": {},
   "outputs": [],
   "source": [
    "import pandas as pd\n",
    "from plotnine import *\n",
    "from tensorflow import keras\n",
    "from keras import models\n",
    "from keras import layers\n",
    "from keras import losses\n",
    "from tensorflow.keras import optimizers\n",
    "from keras import metrics\n",
    "from sklearn.model_selection import train_test_split\n",
    "from sklearn.preprocessing import StandardScaler\n",
    "from sklearn import svm\n",
    "from sklearn import metrics\n",
    "import warnings\n",
    "warnings.simplefilter(action='ignore', category=FutureWarning)"
   ]
  },
  {
   "cell_type": "code",
   "execution_count": 2,
   "id": "2f2be6ec",
   "metadata": {},
   "outputs": [
    {
     "data": {
      "text/html": [
       "<div>\n",
       "<style scoped>\n",
       "    .dataframe tbody tr th:only-of-type {\n",
       "        vertical-align: middle;\n",
       "    }\n",
       "\n",
       "    .dataframe tbody tr th {\n",
       "        vertical-align: top;\n",
       "    }\n",
       "\n",
       "    .dataframe thead th {\n",
       "        text-align: right;\n",
       "    }\n",
       "</style>\n",
       "<table border=\"1\" class=\"dataframe\">\n",
       "  <thead>\n",
       "    <tr style=\"text-align: right;\">\n",
       "      <th></th>\n",
       "      <th>id</th>\n",
       "      <th>rated</th>\n",
       "      <th>created_at</th>\n",
       "      <th>last_move_at</th>\n",
       "      <th>turns</th>\n",
       "      <th>victory_status</th>\n",
       "      <th>winner</th>\n",
       "      <th>increment_code</th>\n",
       "      <th>white_id</th>\n",
       "      <th>white_rating</th>\n",
       "      <th>black_id</th>\n",
       "      <th>black_rating</th>\n",
       "      <th>moves</th>\n",
       "      <th>opening_eco</th>\n",
       "      <th>opening_name</th>\n",
       "      <th>opening_ply</th>\n",
       "    </tr>\n",
       "  </thead>\n",
       "  <tbody>\n",
       "    <tr>\n",
       "      <th>0</th>\n",
       "      <td>TZJHLljE</td>\n",
       "      <td>False</td>\n",
       "      <td>1.504210e+12</td>\n",
       "      <td>1.504210e+12</td>\n",
       "      <td>13</td>\n",
       "      <td>outoftime</td>\n",
       "      <td>white</td>\n",
       "      <td>15+2</td>\n",
       "      <td>bourgris</td>\n",
       "      <td>1500</td>\n",
       "      <td>a-00</td>\n",
       "      <td>1191</td>\n",
       "      <td>d4 d5 c4 c6 cxd5 e6 dxe6 fxe6 Nf3 Bb4+ Nc3 Ba5...</td>\n",
       "      <td>D10</td>\n",
       "      <td>Slav Defense: Exchange Variation</td>\n",
       "      <td>5</td>\n",
       "    </tr>\n",
       "    <tr>\n",
       "      <th>1</th>\n",
       "      <td>l1NXvwaE</td>\n",
       "      <td>True</td>\n",
       "      <td>1.504130e+12</td>\n",
       "      <td>1.504130e+12</td>\n",
       "      <td>16</td>\n",
       "      <td>resign</td>\n",
       "      <td>black</td>\n",
       "      <td>5+10</td>\n",
       "      <td>a-00</td>\n",
       "      <td>1322</td>\n",
       "      <td>skinnerua</td>\n",
       "      <td>1261</td>\n",
       "      <td>d4 Nc6 e4 e5 f4 f6 dxe5 fxe5 fxe5 Nxe5 Qd4 Nc6...</td>\n",
       "      <td>B00</td>\n",
       "      <td>Nimzowitsch Defense: Kennedy Variation</td>\n",
       "      <td>4</td>\n",
       "    </tr>\n",
       "    <tr>\n",
       "      <th>2</th>\n",
       "      <td>mIICvQHh</td>\n",
       "      <td>True</td>\n",
       "      <td>1.504130e+12</td>\n",
       "      <td>1.504130e+12</td>\n",
       "      <td>61</td>\n",
       "      <td>mate</td>\n",
       "      <td>white</td>\n",
       "      <td>5+10</td>\n",
       "      <td>ischia</td>\n",
       "      <td>1496</td>\n",
       "      <td>a-00</td>\n",
       "      <td>1500</td>\n",
       "      <td>e4 e5 d3 d6 Be3 c6 Be2 b5 Nd2 a5 a4 c5 axb5 Nc...</td>\n",
       "      <td>C20</td>\n",
       "      <td>King's Pawn Game: Leonardis Variation</td>\n",
       "      <td>3</td>\n",
       "    </tr>\n",
       "    <tr>\n",
       "      <th>3</th>\n",
       "      <td>kWKvrqYL</td>\n",
       "      <td>True</td>\n",
       "      <td>1.504110e+12</td>\n",
       "      <td>1.504110e+12</td>\n",
       "      <td>61</td>\n",
       "      <td>mate</td>\n",
       "      <td>white</td>\n",
       "      <td>20+0</td>\n",
       "      <td>daniamurashov</td>\n",
       "      <td>1439</td>\n",
       "      <td>adivanov2009</td>\n",
       "      <td>1454</td>\n",
       "      <td>d4 d5 Nf3 Bf5 Nc3 Nf6 Bf4 Ng4 e3 Nc6 Be2 Qd7 O...</td>\n",
       "      <td>D02</td>\n",
       "      <td>Queen's Pawn Game: Zukertort Variation</td>\n",
       "      <td>3</td>\n",
       "    </tr>\n",
       "    <tr>\n",
       "      <th>4</th>\n",
       "      <td>9tXo1AUZ</td>\n",
       "      <td>True</td>\n",
       "      <td>1.504030e+12</td>\n",
       "      <td>1.504030e+12</td>\n",
       "      <td>95</td>\n",
       "      <td>mate</td>\n",
       "      <td>white</td>\n",
       "      <td>30+3</td>\n",
       "      <td>nik221107</td>\n",
       "      <td>1523</td>\n",
       "      <td>adivanov2009</td>\n",
       "      <td>1469</td>\n",
       "      <td>e4 e5 Nf3 d6 d4 Nc6 d5 Nb4 a3 Na6 Nc3 Be7 b4 N...</td>\n",
       "      <td>C41</td>\n",
       "      <td>Philidor Defense</td>\n",
       "      <td>5</td>\n",
       "    </tr>\n",
       "  </tbody>\n",
       "</table>\n",
       "</div>"
      ],
      "text/plain": [
       "         id  rated    created_at  last_move_at  turns victory_status winner  \\\n",
       "0  TZJHLljE  False  1.504210e+12  1.504210e+12     13      outoftime  white   \n",
       "1  l1NXvwaE   True  1.504130e+12  1.504130e+12     16         resign  black   \n",
       "2  mIICvQHh   True  1.504130e+12  1.504130e+12     61           mate  white   \n",
       "3  kWKvrqYL   True  1.504110e+12  1.504110e+12     61           mate  white   \n",
       "4  9tXo1AUZ   True  1.504030e+12  1.504030e+12     95           mate  white   \n",
       "\n",
       "  increment_code       white_id  white_rating      black_id  black_rating  \\\n",
       "0           15+2       bourgris          1500          a-00          1191   \n",
       "1           5+10           a-00          1322     skinnerua          1261   \n",
       "2           5+10         ischia          1496          a-00          1500   \n",
       "3           20+0  daniamurashov          1439  adivanov2009          1454   \n",
       "4           30+3      nik221107          1523  adivanov2009          1469   \n",
       "\n",
       "                                               moves opening_eco  \\\n",
       "0  d4 d5 c4 c6 cxd5 e6 dxe6 fxe6 Nf3 Bb4+ Nc3 Ba5...         D10   \n",
       "1  d4 Nc6 e4 e5 f4 f6 dxe5 fxe5 fxe5 Nxe5 Qd4 Nc6...         B00   \n",
       "2  e4 e5 d3 d6 Be3 c6 Be2 b5 Nd2 a5 a4 c5 axb5 Nc...         C20   \n",
       "3  d4 d5 Nf3 Bf5 Nc3 Nf6 Bf4 Ng4 e3 Nc6 Be2 Qd7 O...         D02   \n",
       "4  e4 e5 Nf3 d6 d4 Nc6 d5 Nb4 a3 Na6 Nc3 Be7 b4 N...         C41   \n",
       "\n",
       "                             opening_name  opening_ply  \n",
       "0        Slav Defense: Exchange Variation            5  \n",
       "1  Nimzowitsch Defense: Kennedy Variation            4  \n",
       "2   King's Pawn Game: Leonardis Variation            3  \n",
       "3  Queen's Pawn Game: Zukertort Variation            3  \n",
       "4                        Philidor Defense            5  "
      ]
     },
     "execution_count": 2,
     "metadata": {},
     "output_type": "execute_result"
    }
   ],
   "source": [
    "db=pd.read_csv(\"games.csv\")\n",
    "db.head()"
   ]
  },
  {
   "cell_type": "markdown",
   "id": "8b4f6be8",
   "metadata": {},
   "source": [
    "## Checking to see if different traits increase likelyhood of winning"
   ]
  },
  {
   "cell_type": "code",
   "execution_count": 3,
   "id": "1906bc1a",
   "metadata": {},
   "outputs": [
    {
     "data": {
      "image/png": "[encoded data removed]",
      "text/plain": [
       "<Figure size 640x480 with 1 Axes>"
      ]
     },
     "metadata": {
      "needs_background": "light"
     },
     "output_type": "display_data"
    },
    {
     "data": {
      "text/plain": [
       "<ggplot: (117206091283)>"
      ]
     },
     "execution_count": 3,
     "metadata": {},
     "output_type": "execute_result"
    }
   ],
   "source": [
    "white=(db[\"winner\"]==\"white\").sum()\n",
    "black=(db[\"winner\"]==\"black\").sum()\n",
    "colorWinDb=pd.DataFrame({\"Color\": [\"White\", \"Black\"], \n",
    "                        \"y\":[white, black]})\n",
    "(ggplot(colorWinDb, aes(x=\"Color\", weight=\"y\", fill=\"Color\"))+geom_bar()+theme_minimal())"
   ]
  },
  {
   "cell_type": "markdown",
   "id": "c5bb6bef",
   "metadata": {},
   "source": [
    "As expected there is no significant difference in wins whether the player was using the white pieces or black pieces. It also makes sense that there are slightly more wins for white since they start first. "
   ]
  },
  {
   "cell_type": "markdown",
   "id": "407d69c9",
   "metadata": {},
   "source": [
    "## Checking to see if rating makes a difference in predicting who is going to win "
   ]
  },
  {
   "cell_type": "code",
   "execution_count": 4,
   "id": "fc4e3abe",
   "metadata": {},
   "outputs": [
    {
     "data": {
      "image/png": "[encoded data removed]",
      "text/plain": [
       "<Figure size 640x480 with 1 Axes>"
      ]
     },
     "metadata": {
      "needs_background": "light"
     },
     "output_type": "display_data"
    },
    {
     "data": {
      "text/plain": [
       "<ggplot: (117206464275)>"
      ]
     },
     "execution_count": 4,
     "metadata": {},
     "output_type": "execute_result"
    }
   ],
   "source": [
    "whiteBetter=0\n",
    "blackBetter=0\n",
    "whiteWorse=0\n",
    "blackWorse=0\n",
    "for index, row in db.iterrows():\n",
    "    if((int(row[\"white_rating\"])>int(row[\"black_rating\"]) and row[\"winner\"]==\"white\")):\n",
    "        whiteBetter+=1\n",
    "    elif(int(row[\"white_rating\"])<int(row[\"black_rating\"] and row[\"winner\"]==\"black\")):\n",
    "        blackBetter+=1\n",
    "    elif(int(row[\"white_rating\"])<int(row[\"black_rating\"] and row[\"winner\"]==\"white\")):\n",
    "        whiteWorse+=1\n",
    "    elif((int(row[\"white_rating\"])>int(row[\"black_rating\"]) and row[\"winner\"]==\"black\")):\n",
    "        blackWorse+=1\n",
    "ratingWinDb=pd.DataFrame({\"rating\": [\"Better Rated Won\", \"Worse Rated Won\"], \n",
    "                        \"y\":[whiteBetter+blackBetter, blackWorse+whiteWorse]})\n",
    "(ggplot(ratingWinDb, aes(x=\"rating\", weight=\"y\", fill=\"rating\"))+geom_bar()+theme_minimal())\n",
    "\n"
   ]
  },
  {
   "cell_type": "code",
   "execution_count": 5,
   "id": "5cfc6688",
   "metadata": {},
   "outputs": [
    {
     "name": "stdout",
     "output_type": "stream",
     "text": [
      "67.18460588598477% of better rated players won in their matchup vs a worse rated player\n"
     ]
    }
   ],
   "source": [
    "total=whiteBetter+blackBetter+blackWorse+whiteWorse\n",
    "percent=float(((whiteBetter+blackBetter)/total)*100)\n",
    "print(str(percent)+\"% of better rated players won in their matchup vs a worse rated player\")"
   ]
  },
  {
   "cell_type": "markdown",
   "id": "e8639395",
   "metadata": {},
   "source": [
    "This shows that a players rating is a big factor in determining whether a player will win in a matchup. The problem with this is that ratings don't carry over to playing on different sites or playing someone in real life. "
   ]
  },
  {
   "cell_type": "markdown",
   "id": "0ad5328d",
   "metadata": {},
   "source": [
    "## Predicting who will win a game based off of the first couple moves"
   ]
  },
  {
   "cell_type": "markdown",
   "id": "eb0ff7b4",
   "metadata": {},
   "source": [
    "### Getting data ready"
   ]
  },
  {
   "cell_type": "code",
   "execution_count": 6,
   "id": "0dfc2b34",
   "metadata": {},
   "outputs": [],
   "source": [
    "db[\"winner\"] = db[\"winner\"].astype('category')\n",
    "db['winner_code']=db[\"winner\"].cat.codes\n",
    "\n",
    "db[\"opening_eco\"]=db[\"opening_eco\"].astype('category')\n",
    "db[\"opening_eco_code\"]=db[\"opening_eco\"].cat.codes\n",
    "\n",
    "db[\"opening_name\"]=db[\"opening_name\"].astype('category')\n",
    "db[\"opening_name_code\"]=db[\"opening_name\"].cat.codes\n",
    "\n",
    "db[\"victory_status\"]=db[\"victory_status\"].astype('category')\n",
    "db[\"victory_status_code\"]=db[\"victory_status\"].cat.codes\n",
    "\n",
    "db[\"increment_code\"]=db[\"increment_code\"].astype('category')\n",
    "db[\"increment_code_num\"]=db[\"increment_code\"].cat.codes"
   ]
  },
  {
   "cell_type": "code",
   "execution_count": 8,
   "id": "24fb4cff",
   "metadata": {},
   "outputs": [],
   "source": [
    "predictors=[\"turns\",\"opening_ply\", \"opening_eco_code\", \"opening_name_code\", \"victory_status_code\", \"increment_code_num\" ]\n"
   ]
  },
  {
   "cell_type": "code",
   "execution_count": 9,
   "id": "e04a00ce",
   "metadata": {},
   "outputs": [
    {
     "data": {
      "text/plain": [
       "16046"
      ]
     },
     "execution_count": 9,
     "metadata": {},
     "output_type": "execute_result"
    }
   ],
   "source": [
    "x_train, x_test, y_train, y_test =train_test_split(db[predictors], db[\"winner_code\"], test_size=.2)"
   ]
  },
  {
   "cell_type": "markdown",
   "id": "bdb220dd",
   "metadata": {},
   "source": [
    "### Building and testing model"
   ]
  },
  {
   "cell_type": "code",
   "execution_count": 11,
   "id": "3c31eca7",
   "metadata": {},
   "outputs": [],
   "source": [
    "clf = svm.SVC(kernel='linear')\n",
    "\n"
   ]
  },
  {
   "cell_type": "code",
   "execution_count": 12,
   "id": "d865abf8",
   "metadata": {},
   "outputs": [
    {
     "data": {
      "text/plain": [
       "SVC(kernel='linear')"
      ]
     },
     "execution_count": 12,
     "metadata": {},
     "output_type": "execute_result"
    }
   ],
   "source": [
    "clf.fit(x_train, y_train)\n"
   ]
  },
  {
   "cell_type": "code",
   "execution_count": 13,
   "id": "f6536a3d",
   "metadata": {},
   "outputs": [],
   "source": [
    "y_pred = clf.predict(x_test)"
   ]
  },
  {
   "cell_type": "code",
   "execution_count": 14,
   "id": "b0bd1bd7",
   "metadata": {},
   "outputs": [
    {
     "name": "stdout",
     "output_type": "stream",
     "text": [
      "Accuracy: 0.5396311066799602\n"
     ]
    }
   ],
   "source": [
    "print(\"Accuracy:\",metrics.accuracy_score(y_test, y_pred))"
   ]
  },
  {
   "cell_type": "markdown",
   "id": "178f6f9d",
   "metadata": {},
   "source": [
    "This accuracy isn't very high and is only slightly better than guessing. Adding the rating can make it a little better. This also shows that opening moves are not the best way to predict the winner as its only slightly better than guessing"
   ]
  },
  {
   "cell_type": "markdown",
   "id": "1b0e2e41",
   "metadata": {},
   "source": [
    "### Adding the ratings of the players to improve the model"
   ]
  },
  {
   "cell_type": "code",
   "execution_count": 15,
   "id": "56ca8025",
   "metadata": {},
   "outputs": [],
   "source": [
    "predictors=[\"turns\",\"opening_ply\", \"opening_eco_code\", \"opening_name_code\", \"victory_status_code\", \"increment_code_num\", \n",
    "           \"white_rating\", \"black_rating\"]\n",
    "x_train, x_test, y_train, y_test =train_test_split(db[predictors], db[\"winner_code\"], test_size=.2)"
   ]
  },
  {
   "cell_type": "code",
   "execution_count": 16,
   "id": "2e5d8adf",
   "metadata": {},
   "outputs": [],
   "source": [
    "clf = svm.SVC(kernel='linear')"
   ]
  },
  {
   "cell_type": "code",
   "execution_count": 17,
   "id": "2181eac9",
   "metadata": {},
   "outputs": [
    {
     "data": {
      "text/plain": [
       "SVC(kernel='linear')"
      ]
     },
     "execution_count": 17,
     "metadata": {},
     "output_type": "execute_result"
    }
   ],
   "source": [
    "clf.fit(x_train, y_train)\n"
   ]
  },
  {
   "cell_type": "code",
   "execution_count": 18,
   "id": "32bf2b4d",
   "metadata": {},
   "outputs": [],
   "source": [
    "y_pred = clf.predict(x_test)"
   ]
  },
  {
   "cell_type": "code",
   "execution_count": 19,
   "id": "d15aa069",
   "metadata": {},
   "outputs": [
    {
     "name": "stdout",
     "output_type": "stream",
     "text": [
      "Accuracy: 0.6707377866400798\n"
     ]
    }
   ],
   "source": [
    "print(\"Accuracy:\",metrics.accuracy_score(y_test, y_pred))"
   ]
  },
  {
   "cell_type": "markdown",
   "id": "8ceda33d",
   "metadata": {},
   "source": [
    "I can see that the accuracy improved once the ratings were added of each player. This makes sense as we saw there was a correlation with ratings and who wins the game. However, ratings are only relevant on this site and don't transfer over when a game is played on a different site or in real life. This concludes that the opening play is not the best metric to predict who the winner of a game will be"
   ]
  },
  {
   "cell_type": "markdown",
   "id": "cfb0774d",
   "metadata": {},
   "source": [
    "## Guessing the next move with Feed Forward Neural Network"
   ]
  },
  {
   "cell_type": "code",
   "execution_count": 101,
   "id": "be2109da",
   "metadata": {},
   "outputs": [],
   "source": [
    "data = {'Move1':[],\n",
    "        'Move2':[]}\n",
    "moveDf = pd.DataFrame(data)\n"
   ]
  },
  {
   "cell_type": "code",
   "execution_count": 102,
   "id": "527dcf67",
   "metadata": {},
   "outputs": [
    {
     "data": {
      "text/html": [
       "<div>\n",
       "<style scoped>\n",
       "    .dataframe tbody tr th:only-of-type {\n",
       "        vertical-align: middle;\n",
       "    }\n",
       "\n",
       "    .dataframe tbody tr th {\n",
       "        vertical-align: top;\n",
       "    }\n",
       "\n",
       "    .dataframe thead th {\n",
       "        text-align: right;\n",
       "    }\n",
       "</style>\n",
       "<table border=\"1\" class=\"dataframe\">\n",
       "  <thead>\n",
       "    <tr style=\"text-align: right;\">\n",
       "      <th></th>\n",
       "      <th>Move1</th>\n",
       "      <th>Move2</th>\n",
       "    </tr>\n",
       "  </thead>\n",
       "  <tbody>\n",
       "  </tbody>\n",
       "</table>\n",
       "</div>"
      ],
      "text/plain": [
       "Empty DataFrame\n",
       "Columns: [Move1, Move2]\n",
       "Index: []"
      ]
     },
     "execution_count": 102,
     "metadata": {},
     "output_type": "execute_result"
    }
   ],
   "source": [
    "moveDf.head()"
   ]
  },
  {
   "cell_type": "code",
   "execution_count": 103,
   "id": "cf3c878d",
   "metadata": {},
   "outputs": [],
   "source": [
    "counter=0\n",
    "for i in db[\"moves\"] :\n",
    "    moves=i.split(\" \")\n",
    "    #print(moves)\n",
    "    counter=0\n",
    "    temp=[]\n",
    "    for j in moves:\n",
    "        temp.append(j)\n",
    "        if(counter%2==1):\n",
    "            moveDf=moveDf.append({'Move1':temp[counter-1], 'Move2':temp[counter]}, ignore_index=True)\n",
    "            #print(moveDf.head())\n",
    "        counter+=1\n",
    "    "
   ]
  },
  {
   "cell_type": "code",
   "execution_count": 104,
   "id": "b1e2acbf",
   "metadata": {},
   "outputs": [
    {
     "data": {
      "text/plain": [
       "601253"
      ]
     },
     "execution_count": 104,
     "metadata": {},
     "output_type": "execute_result"
    }
   ],
   "source": [
    "len(moveDf)"
   ]
  },
  {
   "cell_type": "code",
   "execution_count": 105,
   "id": "c70dead3",
   "metadata": {},
   "outputs": [
    {
     "data": {
      "text/html": [
       "<div>\n",
       "<style scoped>\n",
       "    .dataframe tbody tr th:only-of-type {\n",
       "        vertical-align: middle;\n",
       "    }\n",
       "\n",
       "    .dataframe tbody tr th {\n",
       "        vertical-align: top;\n",
       "    }\n",
       "\n",
       "    .dataframe thead th {\n",
       "        text-align: right;\n",
       "    }\n",
       "</style>\n",
       "<table border=\"1\" class=\"dataframe\">\n",
       "  <thead>\n",
       "    <tr style=\"text-align: right;\">\n",
       "      <th></th>\n",
       "      <th>Move1</th>\n",
       "      <th>Move2</th>\n",
       "    </tr>\n",
       "  </thead>\n",
       "  <tbody>\n",
       "    <tr>\n",
       "      <th>0</th>\n",
       "      <td>d4</td>\n",
       "      <td>d5</td>\n",
       "    </tr>\n",
       "    <tr>\n",
       "      <th>1</th>\n",
       "      <td>c4</td>\n",
       "      <td>c6</td>\n",
       "    </tr>\n",
       "    <tr>\n",
       "      <th>2</th>\n",
       "      <td>cxd5</td>\n",
       "      <td>e6</td>\n",
       "    </tr>\n",
       "    <tr>\n",
       "      <th>3</th>\n",
       "      <td>dxe6</td>\n",
       "      <td>fxe6</td>\n",
       "    </tr>\n",
       "    <tr>\n",
       "      <th>4</th>\n",
       "      <td>Nf3</td>\n",
       "      <td>Bb4+</td>\n",
       "    </tr>\n",
       "  </tbody>\n",
       "</table>\n",
       "</div>"
      ],
      "text/plain": [
       "  Move1 Move2\n",
       "0    d4    d5\n",
       "1    c4    c6\n",
       "2  cxd5    e6\n",
       "3  dxe6  fxe6\n",
       "4   Nf3  Bb4+"
      ]
     },
     "execution_count": 105,
     "metadata": {},
     "output_type": "execute_result"
    }
   ],
   "source": [
    "moveDf.head()"
   ]
  },
  {
   "cell_type": "code",
   "execution_count": 106,
   "id": "c8f754cf",
   "metadata": {},
   "outputs": [],
   "source": [
    "moveDf[\"Move1\"] = moveDf[\"Move1\"].astype('category')\n",
    "moveDf[\"Move1Code\"]=moveDf[\"Move1\"].cat.codes\n",
    "\n",
    "moveDf[\"Move2\"] = moveDf[\"Move2\"].astype('category')\n",
    "moveDf[\"Move2Code\"] = moveDf[\"Move2\"].cat.codes"
   ]
  },
  {
   "cell_type": "code",
   "execution_count": 115,
   "id": "62eb27cd",
   "metadata": {},
   "outputs": [
    {
     "data": {
      "text/html": [
       "<div>\n",
       "<style scoped>\n",
       "    .dataframe tbody tr th:only-of-type {\n",
       "        vertical-align: middle;\n",
       "    }\n",
       "\n",
       "    .dataframe tbody tr th {\n",
       "        vertical-align: top;\n",
       "    }\n",
       "\n",
       "    .dataframe thead th {\n",
       "        text-align: right;\n",
       "    }\n",
       "</style>\n",
       "<table border=\"1\" class=\"dataframe\">\n",
       "  <thead>\n",
       "    <tr style=\"text-align: right;\">\n",
       "      <th></th>\n",
       "      <th>Move1</th>\n",
       "      <th>Move2</th>\n",
       "      <th>Move1Code</th>\n",
       "      <th>Move2Code</th>\n",
       "    </tr>\n",
       "  </thead>\n",
       "  <tbody>\n",
       "    <tr>\n",
       "      <th>0</th>\n",
       "      <td>d4</td>\n",
       "      <td>d5</td>\n",
       "      <td>2675</td>\n",
       "      <td>2997</td>\n",
       "    </tr>\n",
       "    <tr>\n",
       "      <th>1</th>\n",
       "      <td>c4</td>\n",
       "      <td>c6</td>\n",
       "      <td>2635</td>\n",
       "      <td>2955</td>\n",
       "    </tr>\n",
       "    <tr>\n",
       "      <th>2</th>\n",
       "      <td>cxd5</td>\n",
       "      <td>e6</td>\n",
       "      <td>2665</td>\n",
       "      <td>3042</td>\n",
       "    </tr>\n",
       "    <tr>\n",
       "      <th>3</th>\n",
       "      <td>dxe6</td>\n",
       "      <td>fxe6</td>\n",
       "      <td>2705</td>\n",
       "      <td>3101</td>\n",
       "    </tr>\n",
       "    <tr>\n",
       "      <th>4</th>\n",
       "      <td>Nf3</td>\n",
       "      <td>Bb4+</td>\n",
       "      <td>752</td>\n",
       "      <td>27</td>\n",
       "    </tr>\n",
       "  </tbody>\n",
       "</table>\n",
       "</div>"
      ],
      "text/plain": [
       "  Move1 Move2  Move1Code  Move2Code\n",
       "0    d4    d5       2675       2997\n",
       "1    c4    c6       2635       2955\n",
       "2  cxd5    e6       2665       3042\n",
       "3  dxe6  fxe6       2705       3101\n",
       "4   Nf3  Bb4+        752         27"
      ]
     },
     "execution_count": 115,
     "metadata": {},
     "output_type": "execute_result"
    }
   ],
   "source": [
    "moveDf.head()"
   ]
  },
  {
   "cell_type": "code",
   "execution_count": 123,
   "id": "107b07f9",
   "metadata": {},
   "outputs": [],
   "source": [
    "x_train, x_test, y_train, y_test =train_test_split(moveDf[\"Move1Code\"], moveDf[\"Move2Code\"], test_size=.2)"
   ]
  },
  {
   "cell_type": "code",
   "execution_count": 124,
   "id": "86dc7fe2",
   "metadata": {},
   "outputs": [],
   "source": [
    "x_val=x_train[:50000]\n",
    "partial_x_train = x_train[50000:]\n",
    "y_val=y_train[:50000]\n",
    "partial_y_train = y_train[50000: ]"
   ]
  },
  {
   "cell_type": "code",
   "execution_count": null,
   "id": "6eac7a67",
   "metadata": {},
   "outputs": [
    {
     "name": "stdout",
     "output_type": "stream",
     "text": [
      "Epoch 1/200000\n",
      "842/842 [==============================] - 1s 802us/step - loss: 3688637.0000 - accuracy: 2.3202e-05 - val_loss: 3702762.2500 - val_accuracy: 6.0000e-05\n",
      "Epoch 2/200000\n",
      "842/842 [==============================] - 1s 713us/step - loss: 3688634.2500 - accuracy: 2.3202e-05 - val_loss: 3702762.2500 - val_accuracy: 6.0000e-05\n",
      "Epoch 3/200000\n",
      "842/842 [==============================] - 1s 724us/step - loss: 3688634.2500 - accuracy: 2.3202e-05 - val_loss: 3702762.2500 - val_accuracy: 6.0000e-05\n",
      "Epoch 4/200000\n",
      "842/842 [==============================] - 1s 705us/step - loss: 3688631.5000 - accuracy: 2.3202e-05 - val_loss: 3702762.2500 - val_accuracy: 6.0000e-05\n",
      "Epoch 5/200000\n",
      "842/842 [==============================] - 1s 703us/step - loss: 3688633.5000 - accuracy: 2.3202e-05 - val_loss: 3702762.2500 - val_accuracy: 6.0000e-05\n",
      "Epoch 6/200000\n",
      "842/842 [==============================] - 1s 706us/step - loss: 3688634.0000 - accuracy: 2.3202e-05 - val_loss: 3702762.2500 - val_accuracy: 6.0000e-05\n",
      "Epoch 7/200000\n",
      "842/842 [==============================] - 1s 706us/step - loss: 3688634.7500 - accuracy: 2.3202e-05 - val_loss: 3702762.2500 - val_accuracy: 6.0000e-05\n",
      "Epoch 8/200000\n",
      "842/842 [==============================] - 1s 703us/step - loss: 3688632.7500 - accuracy: 2.3202e-05 - val_loss: 3702762.2500 - val_accuracy: 6.0000e-05\n",
      "Epoch 9/200000\n",
      "842/842 [==============================] - 1s 703us/step - loss: 3688633.0000 - accuracy: 2.3202e-05 - val_loss: 3702762.2500 - val_accuracy: 6.0000e-05\n",
      "Epoch 10/200000\n",
      "842/842 [==============================] - 1s 700us/step - loss: 3688633.2500 - accuracy: 2.3202e-05 - val_loss: 3702762.2500 - val_accuracy: 6.0000e-05\n",
      "Epoch 11/200000\n",
      "842/842 [==============================] - 1s 704us/step - loss: 3688633.0000 - accuracy: 2.3202e-05 - val_loss: 3702762.2500 - val_accuracy: 6.0000e-05\n",
      "Epoch 12/200000\n",
      "842/842 [==============================] - 1s 710us/step - loss: 3688633.2500 - accuracy: 2.3202e-05 - val_loss: 3702762.2500 - val_accuracy: 6.0000e-05\n",
      "Epoch 13/200000\n",
      "842/842 [==============================] - 1s 702us/step - loss: 3688633.0000 - accuracy: 2.3202e-05 - val_loss: 3702762.2500 - val_accuracy: 6.0000e-05\n",
      "Epoch 14/200000\n",
      "842/842 [==============================] - 1s 698us/step - loss: 3688636.0000 - accuracy: 2.3202e-05 - val_loss: 3702762.2500 - val_accuracy: 6.0000e-05\n",
      "Epoch 15/200000\n",
      "842/842 [==============================] - 1s 704us/step - loss: 3688633.5000 - accuracy: 2.3202e-05 - val_loss: 3702762.2500 - val_accuracy: 6.0000e-05\n",
      "Epoch 16/200000\n",
      "842/842 [==============================] - 1s 702us/step - loss: 3688634.0000 - accuracy: 2.3202e-05 - val_loss: 3702762.2500 - val_accuracy: 6.0000e-05\n",
      "Epoch 17/200000\n",
      "842/842 [==============================] - 1s 710us/step - loss: 3688631.7500 - accuracy: 2.3202e-05 - val_loss: 3702762.2500 - val_accuracy: 6.0000e-05\n",
      "Epoch 18/200000\n",
      "842/842 [==============================] - 1s 707us/step - loss: 3688635.5000 - accuracy: 2.3202e-05 - val_loss: 3702762.2500 - val_accuracy: 6.0000e-05\n",
      "Epoch 19/200000\n",
      "842/842 [==============================] - 1s 705us/step - loss: 3688634.2500 - accuracy: 2.3202e-05 - val_loss: 3702762.2500 - val_accuracy: 6.0000e-05\n",
      "Epoch 20/200000\n",
      "842/842 [==============================] - 1s 704us/step - loss: 3688636.0000 - accuracy: 2.3202e-05 - val_loss: 3702762.2500 - val_accuracy: 6.0000e-05\n",
      "Epoch 21/200000\n",
      "634/842 [=====================>........] - ETA: 0s - loss: 3693305.2500 - accuracy: 1.8484e-05"
     ]
    }
   ],
   "source": [
    "model=models.Sequential()\n",
    "model.add(layers.Dense(16, activation = 'relu', input_shape=(1,)))\n",
    "model.add(layers.Dense(16, activation = 'relu'))\n",
    "model.add(layers.Dense(16, activation = 'relu'))\n",
    "model.add(layers.Dense(1, activation= 'sigmoid'))\n",
    "\n",
    "model.compile(loss='mean_squared_error', optimizer='adam', metrics=['accuracy']) \n",
    "\n",
    "history = model.fit(partial_x_train,\n",
    "                    partial_y_train,\n",
    "                    epochs=200000,\n",
    "                    batch_size=512,\n",
    "                    validation_data=(x_val, y_val))\n",
    "results=model.evaluate(x_test, y_test)\n",
    "results"
   ]
  },
  {
   "cell_type": "code",
   "execution_count": 117,
   "id": "2589c6cb",
   "metadata": {},
   "outputs": [],
   "source": [
    "moveDf.to_csv('moveDf.csv', index = False, header=True)\n",
    "#saving it so it doesn't have to be built next time"
   ]
  },
  {
   "cell_type": "code",
   "execution_count": 122,
   "id": "a79ec45b",
   "metadata": {},
   "outputs": [
    {
     "ename": "IndexError",
     "evalue": "list index out of range",
     "output_type": "error",
     "traceback": [
      "\u001b[1;31m---------------------------------------------------------------------------\u001b[0m",
      "\u001b[1;31mIndexError\u001b[0m                                Traceback (most recent call last)",
      "Input \u001b[1;32mIn [122]\u001b[0m, in \u001b[0;36m<module>\u001b[1;34m\u001b[0m\n\u001b[1;32m----> 1\u001b[0m \u001b[43mmodel\u001b[49m\u001b[38;5;241;43m.\u001b[39;49m\u001b[43mpredict\u001b[49m\u001b[43m(\u001b[49m\u001b[38;5;241;43m277\u001b[39;49m\u001b[43m)\u001b[49m\n",
      "File \u001b[1;32m~\\AppData\\Roaming\\Python\\Python39\\site-packages\\keras\\utils\\traceback_utils.py:67\u001b[0m, in \u001b[0;36mfilter_traceback.<locals>.error_handler\u001b[1;34m(*args, **kwargs)\u001b[0m\n\u001b[0;32m     65\u001b[0m \u001b[38;5;28;01mexcept\u001b[39;00m \u001b[38;5;167;01mException\u001b[39;00m \u001b[38;5;28;01mas\u001b[39;00m e:  \u001b[38;5;66;03m# pylint: disable=broad-except\u001b[39;00m\n\u001b[0;32m     66\u001b[0m   filtered_tb \u001b[38;5;241m=\u001b[39m _process_traceback_frames(e\u001b[38;5;241m.\u001b[39m__traceback__)\n\u001b[1;32m---> 67\u001b[0m   \u001b[38;5;28;01mraise\u001b[39;00m e\u001b[38;5;241m.\u001b[39mwith_traceback(filtered_tb) \u001b[38;5;28;01mfrom\u001b[39;00m \u001b[38;5;28mNone\u001b[39m\n\u001b[0;32m     68\u001b[0m \u001b[38;5;28;01mfinally\u001b[39;00m:\n\u001b[0;32m     69\u001b[0m   \u001b[38;5;28;01mdel\u001b[39;00m filtered_tb\n",
      "File \u001b[1;32m~\\AppData\\Roaming\\Python\\Python39\\site-packages\\tensorflow\\python\\framework\\tensor_shape.py:902\u001b[0m, in \u001b[0;36mTensorShape.__getitem__\u001b[1;34m(self, key)\u001b[0m\n\u001b[0;32m    900\u001b[0m \u001b[38;5;28;01melse\u001b[39;00m:\n\u001b[0;32m    901\u001b[0m   \u001b[38;5;28;01mif\u001b[39;00m \u001b[38;5;28mself\u001b[39m\u001b[38;5;241m.\u001b[39m_v2_behavior:\n\u001b[1;32m--> 902\u001b[0m     \u001b[38;5;28;01mreturn\u001b[39;00m \u001b[38;5;28;43mself\u001b[39;49m\u001b[38;5;241;43m.\u001b[39;49m\u001b[43m_dims\u001b[49m\u001b[43m[\u001b[49m\u001b[43mkey\u001b[49m\u001b[43m]\u001b[49m\u001b[38;5;241m.\u001b[39mvalue\n\u001b[0;32m    903\u001b[0m   \u001b[38;5;28;01melse\u001b[39;00m:\n\u001b[0;32m    904\u001b[0m     \u001b[38;5;28;01mreturn\u001b[39;00m \u001b[38;5;28mself\u001b[39m\u001b[38;5;241m.\u001b[39m_dims[key]\n",
      "\u001b[1;31mIndexError\u001b[0m: list index out of range"
     ]
    }
   ],
   "source": [
    "model.predict(277)"
   ]
  },
  {
   "cell_type": "markdown",
   "id": "10dd7568",
   "metadata": {},
   "source": [
    "### FF- NN incase needed for something else"
   ]
  },
  {
   "cell_type": "code",
   "execution_count": 40,
   "id": "1c599184",
   "metadata": {},
   "outputs": [],
   "source": [
    "model=models.Sequential()\n",
    "model.add(layers.Dense(16, activation = 'relu', input_shape=(6,)))\n",
    "model.add(layers.Dense(16, activation = 'relu'))\n",
    "model.add(layers.Dense(1, activation= 'sigmoid'))"
   ]
  },
  {
   "cell_type": "code",
   "execution_count": 41,
   "id": "83bff726",
   "metadata": {},
   "outputs": [],
   "source": [
    "\n",
    "model.compile(loss='binary_crossentropy', optimizer='sgd', metrics=['accuracy']) \n"
   ]
  },
  {
   "cell_type": "code",
   "execution_count": 42,
   "id": "a83d36cb",
   "metadata": {},
   "outputs": [
    {
     "name": "stdout",
     "output_type": "stream",
     "text": [
      "Epoch 1/20\n",
      "29/29 [==============================] - 1s 18ms/step - loss: 881.2703 - accuracy: 0.0646 - val_loss: 0.4495 - val_accuracy: 0.0527\n",
      "Epoch 2/20\n",
      "29/29 [==============================] - 0s 6ms/step - loss: -8.4145 - accuracy: 0.0465 - val_loss: 597.6501 - val_accuracy: 0.0527\n",
      "Epoch 3/20\n",
      "29/29 [==============================] - 0s 6ms/step - loss: nan - accuracy: 0.3407 - val_loss: nan - val_accuracy: 0.4700\n",
      "Epoch 4/20\n",
      "29/29 [==============================] - 0s 6ms/step - loss: nan - accuracy: 0.4538 - val_loss: nan - val_accuracy: 0.4700\n",
      "Epoch 5/20\n",
      "29/29 [==============================] - 0s 6ms/step - loss: nan - accuracy: 0.4538 - val_loss: nan - val_accuracy: 0.4700\n",
      "Epoch 6/20\n",
      "29/29 [==============================] - 0s 6ms/step - loss: nan - accuracy: 0.4538 - val_loss: nan - val_accuracy: 0.4700\n",
      "Epoch 7/20\n",
      "29/29 [==============================] - 0s 6ms/step - loss: nan - accuracy: 0.4538 - val_loss: nan - val_accuracy: 0.4700\n",
      "Epoch 8/20\n",
      "29/29 [==============================] - 0s 6ms/step - loss: nan - accuracy: 0.4538 - val_loss: nan - val_accuracy: 0.4700\n",
      "Epoch 9/20\n",
      "29/29 [==============================] - 0s 6ms/step - loss: nan - accuracy: 0.4538 - val_loss: nan - val_accuracy: 0.4700\n",
      "Epoch 10/20\n",
      "29/29 [==============================] - 0s 6ms/step - loss: nan - accuracy: 0.4538 - val_loss: nan - val_accuracy: 0.4700\n",
      "Epoch 11/20\n",
      "29/29 [==============================] - 0s 6ms/step - loss: nan - accuracy: 0.4538 - val_loss: nan - val_accuracy: 0.4700\n",
      "Epoch 12/20\n",
      "29/29 [==============================] - 0s 7ms/step - loss: nan - accuracy: 0.4538 - val_loss: nan - val_accuracy: 0.4700\n",
      "Epoch 13/20\n",
      "29/29 [==============================] - 0s 6ms/step - loss: nan - accuracy: 0.4538 - val_loss: nan - val_accuracy: 0.4700\n",
      "Epoch 14/20\n",
      "29/29 [==============================] - 0s 6ms/step - loss: nan - accuracy: 0.4538 - val_loss: nan - val_accuracy: 0.4700\n",
      "Epoch 15/20\n",
      "29/29 [==============================] - 0s 6ms/step - loss: nan - accuracy: 0.4538 - val_loss: nan - val_accuracy: 0.4700\n",
      "Epoch 16/20\n",
      "29/29 [==============================] - 0s 6ms/step - loss: nan - accuracy: 0.4538 - val_loss: nan - val_accuracy: 0.4700\n",
      "Epoch 17/20\n",
      "29/29 [==============================] - 0s 7ms/step - loss: nan - accuracy: 0.4538 - val_loss: nan - val_accuracy: 0.4700\n",
      "Epoch 18/20\n",
      "29/29 [==============================] - 0s 7ms/step - loss: nan - accuracy: 0.4538 - val_loss: nan - val_accuracy: 0.4700\n",
      "Epoch 19/20\n",
      "29/29 [==============================] - 0s 7ms/step - loss: nan - accuracy: 0.4538 - val_loss: nan - val_accuracy: 0.4700\n",
      "Epoch 20/20\n",
      "29/29 [==============================] - 0s 6ms/step - loss: nan - accuracy: 0.4538 - val_loss: nan - val_accuracy: 0.4700\n",
      "126/126 [==============================] - 0s 3ms/step - loss: nan - accuracy: 0.4489\n"
     ]
    },
    {
     "data": {
      "text/plain": [
       "[nan, 0.44890329241752625]"
      ]
     },
     "execution_count": 42,
     "metadata": {},
     "output_type": "execute_result"
    }
   ],
   "source": [
    "history = model.fit(partial_x_train,\n",
    "                    partial_y_train,\n",
    "                    epochs=20,\n",
    "                    batch_size=512,\n",
    "                    validation_data=(x_val, y_val))\n",
    "results=model.evaluate(x_test, y_test)\n",
    "results\n"
   ]
  },
  {
   "cell_type": "markdown",
   "id": "e81b944a",
   "metadata": {},
   "source": [
    "I can see the loss lowering each time but it also looks like it is just guessing the winner in this model, showing that the neural network is not very accurate. "
   ]
  },
  {
   "cell_type": "code",
   "execution_count": null,
   "id": "56b59c43",
   "metadata": {},
   "outputs": [],
   "source": []
  }
 ],
 "metadata": {
  "kernelspec": {
   "display_name": "Python 3 (ipykernel)",
   "language": "python",
   "name": "python3"
  },
  "language_info": {
   "codemirror_mode": {
    "name": "ipython",
    "version": 3
   },
   "file_extension": ".py",
   "mimetype": "text/x-python",
   "name": "python",
   "nbconvert_exporter": "python",
   "pygments_lexer": "ipython3",
   "version": "3.9.4"
  }
 },
 "nbformat": 4,
 "nbformat_minor": 5
}
