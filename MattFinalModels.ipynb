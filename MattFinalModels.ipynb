{
 "cells": [
  {
   "cell_type": "code",
   "execution_count": null,
   "id": "89d988c9",
   "metadata": {},
   "outputs": [],
   "source": [
    "import pandas as pd\n",
    "import numpy as np\n",
    "from plotnine import *\n",
    "from tensorflow import keras\n",
    "from keras import models\n",
    "from keras import layers\n",
    "from keras import losses\n",
    "from tensorflow.keras import optimizers\n",
    "from keras import metrics\n",
    "from sklearn.model_selection import train_test_split\n",
    "from sklearn.preprocessing import StandardScaler\n",
    "\n",
    "from sklearn.linear_model import LogisticRegression # Logistic Regression Model\n",
    "from sklearn.metrics import accuracy_score, confusion_matrix, plot_confusion_matrix\n",
    "\n",
    "from sklearn.model_selection import KFold # k-fold cv\n",
    "from sklearn.model_selection import LeaveOneOut #LOO cv\n",
    "from sklearn.model_selection import cross_val_score # cross validation metrics\n",
    "from sklearn.model_selection import cross_val_predict # cross validation metrics\n",
    "\n",
    "from sklearn.linear_model import LinearRegression # Linear Regression Model\n",
    "from sklearn.metrics import mean_squared_error, r2_score #model evaluation\n",
    "\n"
   ]
  },
  {
   "cell_type": "code",
   "execution_count": null,
   "id": "5a75d301",
   "metadata": {},
   "outputs": [],
   "source": [
    "db=pd.read_csv(\"games.csv\")\n",
    "#db.head()\n",
    "\n",
    "\n",
    "db[\"winner\"] = db[\"winner\"].astype('category')\n",
    "db['winner_code']=db[\"winner\"].cat.codes\n",
    "\n",
    "db[\"opening_eco\"]=db[\"opening_eco\"].astype('category')\n",
    "db[\"opening_eco_code\"]=db[\"opening_eco\"].cat.codes\n",
    "\n",
    "db[\"opening_name\"]=db[\"opening_name\"].astype('category')\n",
    "db[\"opening_name_code\"]=db[\"opening_name\"].cat.codes\n",
    "\n",
    "db[\"victory_status\"]=db[\"victory_status\"].astype('category')\n",
    "db[\"victory_status_code\"]=db[\"victory_status\"].cat.codes\n",
    "\n",
    "db[\"increment_code\"]=db[\"increment_code\"].astype('category')\n",
    "db[\"increment_code_num\"]=db[\"increment_code\"].cat.codes"
   ]
  },
  {
   "cell_type": "code",
   "execution_count": null,
   "id": "36bdf825",
   "metadata": {},
   "outputs": [],
   "source": [
    "#Setting Categorical Codes for Variables"
   ]
  },
  {
   "cell_type": "code",
   "execution_count": null,
   "id": "bdc558c2",
   "metadata": {},
   "outputs": [],
   "source": [
    "ELOconditionsW = [\n",
    "    (db['white_rating'] >= 0) & (db['white_rating'] <= 1450),\n",
    "    (db['white_rating'] >= 1451) & (db['white_rating'] <= 1700),\n",
    "    (db['white_rating'] >= 1701)\n",
    "    ]\n",
    "\n",
    "ELOconditionsB = [\n",
    "    (db['black_rating'] >= 0) & (db['black_rating'] <= 1450),\n",
    "    (db['black_rating'] >= 1451) & (db['black_rating'] <= 1700),\n",
    "    (db['black_rating'] >= 1701)\n",
    "    ]\n",
    "\n",
    "values = ['0', '1', '2']\n",
    "\n",
    "db['tierW'] = np.select(ELOconditionsW, values)\n",
    "db['tierB'] = np.select(ELOconditionsB, values)\n",
    "\n",
    "db['tierW'] = db['tierW'].astype(str).astype('category')\n",
    "db['tierWcode'] = db['tierW'].cat.codes\n",
    "db['tierB'] = db['tierB'].astype(str).astype('category')\n",
    "db['tierBcode'] = db['tierB'].cat.codes\n",
    "\n",
    "\n",
    "\n",
    "\n",
    "#db[['black_rating','white_rating','tierB','tierW','winner']].iloc[0:25]\n",
    "\n",
    "counter =0\n",
    "for i in db['tierW']:\n",
    "    if i == '2':\n",
    "        counter +=1\n",
    "        \n",
    "print(counter)"
   ]
  },
  {
   "cell_type": "code",
   "execution_count": null,
   "id": "5804c649",
   "metadata": {},
   "outputs": [],
   "source": [
    "#setting skill boundaries"
   ]
  },
  {
   "cell_type": "code",
   "execution_count": null,
   "id": "a8c5e41d",
   "metadata": {},
   "outputs": [],
   "source": [
    "db.head()"
   ]
  },
  {
   "cell_type": "code",
   "execution_count": null,
   "id": "5c744d34",
   "metadata": {},
   "outputs": [],
   "source": [
    "predictors=[\"opening_eco_code\",\"turns\"]\n",
    "\n",
    "X_train, X_test, y_train, y_test = train_test_split(db[predictors], db[\"tierWcode\"], test_size=0.2)\n",
    "\n",
    "\n",
    "zscore = StandardScaler()\n",
    "zscore.fit(X_train)\n",
    "\n",
    "Xz_train = zscore.transform(X_train)\n",
    "Xz_test = zscore.transform(X_test)\n",
    "\n",
    "myLogit = LogisticRegression(penalty = \"none\") # create\n",
    "\n",
    "myLogit.fit(Xz_train, y_train) #fit\n",
    "\n",
    "predictedVals = myLogit.predict(Xz_test)# predict"
   ]
  },
  {
   "cell_type": "code",
   "execution_count": null,
   "id": "227d4554",
   "metadata": {},
   "outputs": [],
   "source": [
    "accuracy_score(y_test,predictedVals)"
   ]
  },
  {
   "cell_type": "code",
   "execution_count": null,
   "id": "40fe4c40",
   "metadata": {},
   "outputs": [],
   "source": [
    "plot_confusion_matrix(myLogit, Xz_test, y_test)"
   ]
  },
  {
   "cell_type": "code",
   "execution_count": null,
   "id": "18ccd2b4",
   "metadata": {},
   "outputs": [],
   "source": [
    "#Logistic Regression\n",
    "#Input - openings and turns\n",
    "#output - tier of white player\n",
    "#guessing accuracy"
   ]
  },
  {
   "cell_type": "code",
   "execution_count": null,
   "id": "0664fdde",
   "metadata": {},
   "outputs": [],
   "source": [
    "predictors=[\"white_rating\",\"opening_eco_code\",\"black_rating\",\"rated\"]\n",
    "X = db[predictors]\n",
    "Y = db[\"turns\"]"
   ]
  },
  {
   "cell_type": "code",
   "execution_count": null,
   "id": "eb4cf889",
   "metadata": {
    "scrolled": true
   },
   "outputs": [],
   "source": [
    "zScore = StandardScaler()\n",
    "zScore.fit(X)\n",
    "\n",
    "Xz = zScore.transform(X)"
   ]
  },
  {
   "cell_type": "code",
   "execution_count": null,
   "id": "f12bd502",
   "metadata": {},
   "outputs": [],
   "source": [
    "LR_Model1 = LinearRegression()"
   ]
  },
  {
   "cell_type": "code",
   "execution_count": null,
   "id": "d5aa1397",
   "metadata": {},
   "outputs": [],
   "source": [
    "LR_Model1.fit(Xz, Y)"
   ]
  },
  {
   "cell_type": "code",
   "execution_count": null,
   "id": "202483ca",
   "metadata": {},
   "outputs": [],
   "source": [
    "turn_pred = LR_Model1.predict(Xz)\n",
    "\n",
    "turn_pred[1:10]"
   ]
  },
  {
   "cell_type": "code",
   "execution_count": null,
   "id": "f60be8d1",
   "metadata": {},
   "outputs": [],
   "source": [
    "mean_squared_error(Y, price_pred)"
   ]
  },
  {
   "cell_type": "code",
   "execution_count": null,
   "id": "f14ec0fc",
   "metadata": {},
   "outputs": [],
   "source": [
    "r2_score(Y, price_pred)"
   ]
  },
  {
   "cell_type": "code",
   "execution_count": null,
   "id": "03964119",
   "metadata": {},
   "outputs": [],
   "source": [
    "assump = pd.DataFrame({\"error\":Y - turn_pred, \"predicted\": turn_pred})\n",
    "\n",
    "(ggplot(assump, aes(x = \"predicted\", y = \"error\")) + geom_point() + theme_minimal())"
   ]
  },
  {
   "cell_type": "code",
   "execution_count": null,
   "id": "dc6301ce",
   "metadata": {},
   "outputs": [],
   "source": [
    "coefficients = pd.DataFrame({\"Coef\":LR_Model1.coef_,\n",
    "              \"Name\": predictors})\n",
    "coefficients = coefficients.append({\"Coef\": LR_Model1.intercept_,\n",
    "                    \"Name\": \"intercept\"}, ignore_index = True)\n",
    "\n",
    "coefficients"
   ]
  },
  {
   "cell_type": "code",
   "execution_count": null,
   "id": "3102bf8e",
   "metadata": {},
   "outputs": [],
   "source": [
    "#Linear Regression\n",
    "#Input - white rating, black rating, openings, and whether match was rated\n",
    "#output - turns\n",
    "#guessing accuracy, but strong correlation with player ratings and whether match was rated"
   ]
  },
  {
   "cell_type": "code",
   "execution_count": null,
   "id": "92264a0f",
   "metadata": {},
   "outputs": [],
   "source": [
    "#Next Linear Reg"
   ]
  },
  {
   "cell_type": "code",
   "execution_count": null,
   "id": "d0db3a57",
   "metadata": {},
   "outputs": [],
   "source": [
    "predictors=[\"turns\",\"opening_eco_code\",\"black_rating\"]\n",
    "X = db[predictors]\n",
    "Y = db[\"white_rating\"]"
   ]
  },
  {
   "cell_type": "code",
   "execution_count": null,
   "id": "ce8b907b",
   "metadata": {},
   "outputs": [],
   "source": [
    "zScore = StandardScaler()\n",
    "zScore.fit(X)\n",
    "\n",
    "Xz = zScore.transform(X)"
   ]
  },
  {
   "cell_type": "code",
   "execution_count": null,
   "id": "27cad8bc",
   "metadata": {},
   "outputs": [],
   "source": [
    "LR_Model2 = LinearRegression()"
   ]
  },
  {
   "cell_type": "code",
   "execution_count": null,
   "id": "ce02aecb",
   "metadata": {},
   "outputs": [],
   "source": [
    "LR_Model2.fit(Xz, Y)"
   ]
  },
  {
   "cell_type": "code",
   "execution_count": null,
   "id": "e5195017",
   "metadata": {},
   "outputs": [],
   "source": [
    "elo_pred = LR_Model2.predict(Xz)\n",
    "\n",
    "elo_pred[1:10]"
   ]
  },
  {
   "cell_type": "code",
   "execution_count": null,
   "id": "710ab44d",
   "metadata": {},
   "outputs": [],
   "source": [
    "mean_squared_error(Y, elo_pred)"
   ]
  },
  {
   "cell_type": "code",
   "execution_count": null,
   "id": "e2a72850",
   "metadata": {},
   "outputs": [],
   "source": [
    "r2_score(Y, elo_pred)"
   ]
  },
  {
   "cell_type": "code",
   "execution_count": null,
   "id": "2d28137b",
   "metadata": {},
   "outputs": [],
   "source": [
    "assump = pd.DataFrame({\"error\":Y - elo_pred, \"predicted\": elo_pred})\n",
    "\n",
    "(ggplot(assump, aes(x = \"predicted\", y = \"error\")) + geom_point() + theme_minimal())"
   ]
  },
  {
   "cell_type": "code",
   "execution_count": null,
   "id": "f910a233",
   "metadata": {},
   "outputs": [],
   "source": [
    "coefficients = pd.DataFrame({\"Coef\":LR_Model2.coef_,\n",
    "              \"Name\": predictors})\n",
    "coefficients = coefficients.append({\"Coef\": LR_Model2.intercept_,\n",
    "                    \"Name\": \"intercept\"}, ignore_index = True)\n",
    "\n",
    "coefficients"
   ]
  },
  {
   "cell_type": "code",
   "execution_count": null,
   "id": "b7006ba3",
   "metadata": {},
   "outputs": [],
   "source": [
    "#Linear Regression\n",
    "#Input - black rating, openings, and turns\n",
    "#output - white rating\n",
    "#guessing accuracy, but strong correlation black rating"
   ]
  },
  {
   "cell_type": "code",
   "execution_count": null,
   "id": "8313d01c",
   "metadata": {},
   "outputs": [],
   "source": [
    "'''\n",
    "db.head(50)\n",
    "counter =0\n",
    "for i in db['tierW']:\n",
    "    if i == '3':\n",
    "        counter +=1\n",
    "        \n",
    "print(counter)\n",
    "\n",
    "\n",
    "db[\"winner\"] = db[\"winner\"].astype('category')\n",
    "db['winner_code']=db[\"winner\"].cat.codes\n",
    "\n",
    "db[\"opening_eco\"]=db[\"opening_eco\"].astype('category')\n",
    "db[\"opening_eco_code\"]=db[\"opening_eco\"].cat.codes\n",
    "\n",
    "db[\"opening_name\"]=db[\"opening_name\"].astype('category')\n",
    "db[\"opening_name_code\"]=db[\"opening_name\"].cat.codes\n",
    "\n",
    "db[\"victory_status\"]=db[\"victory_status\"].astype('category')\n",
    "db[\"victory_status_code\"]=db[\"victory_status\"].cat.codes\n",
    "\n",
    "db[\"increment_code\"]=db[\"increment_code\"].astype('category')\n",
    "db[\"increment_code_num\"]=db[\"increment_code\"].cat.codes\n",
    "\n",
    "\n",
    "data.speeding.plot.density(color='green')\n",
    "plt.title('Density plot for Speeding')\n",
    "plt.show()\n",
    "\n",
    "\n",
    "#X=db[predictors].values.to_list()\n",
    "\n",
    "#y=db[\"tierW\"].values.to_list()\n",
    "\n",
    "#db = pd.DataFrame(db)\n",
    "\n",
    "#db = np.asarray(db[\"tierW\"]).astype('float32')\n",
    "#db = np.asarray(db[\"tierB\"]).astype('float32')\n",
    "\n",
    "\n",
    "predictors=[\"opening_eco_code\",\"turns\"]\n",
    "#predictors=[\"turns\", \"opening_ply\"]\n",
    "db.shape\n",
    "db.dtypes\n",
    "\n",
    "\n",
    "x_train, x_test, y_train, y_test =train_test_split(db[predictors], db[\"tierWcode\"], test_size=.2)\n",
    "x_train= x_train.to_numpy()\n",
    "x_test = x_test.to_numpy()\n",
    "y_train = y_train.to_numpy()\n",
    "y_test = y_test.to_numpy()\n",
    "\n",
    "len(x_train)\n",
    "\n",
    "x_val=x_train[:1500]\n",
    "partial_x_train = x_train[1500:]\n",
    "y_val=y_train[:1500]\n",
    "partial_y_train = y_train[1500: ]\n",
    "\n",
    "model=models.Sequential()\n",
    "model.add(layers.Dense(4, activation = 'relu', input_shape=(2,)))\n",
    "model.add(layers.Dense(5, activation = 'relu'))\n",
    "model.add(layers.Dense(16, activation = 'relu'))\n",
    "model.add(layers.Dense(1, activation= 'sigmoid'))\n",
    "\n",
    "model.compile(loss='categorical_crossentropy', optimizer='adam', metrics=['accuracy'])\n",
    "#categorical cross entropy\n",
    "#output layer give threee layers\n",
    "#sigmoid to softmax\n",
    "\n",
    "\n",
    "[print(i.shape, i.dtype) for i in model.inputs]\n",
    "[print(o.shape, o.dtype) for o in model.outputs]\n",
    "[print(l.name, l.input_shape, l.dtype) for l in model.layers]\n",
    "\n",
    "history = model.fit(partial_x_train,\n",
    "                    partial_y_train,\n",
    "                    epochs=200,\n",
    "                    batch_size=512,\n",
    "                    validation_data=(x_val, y_val))\n",
    "results=model.evaluate(x_test, y_test)\n",
    "results\n",
    "\n",
    "'''"
   ]
  },
  {
   "cell_type": "code",
   "execution_count": null,
   "id": "f8c45363",
   "metadata": {},
   "outputs": [],
   "source": [
    "#FFNN\n",
    "#Input - openings and turns\n",
    "#output - white tier\n",
    "#guessing accuracy"
   ]
  },
  {
   "cell_type": "code",
   "execution_count": null,
   "id": "dc25d05d",
   "metadata": {},
   "outputs": [],
   "source": []
  }
 ],
 "metadata": {
  "kernelspec": {
   "display_name": "Python 3 (ipykernel)",
   "language": "python",
   "name": "python3"
  },
  "language_info": {
   "codemirror_mode": {
    "name": "ipython",
    "version": 3
   },
   "file_extension": ".py",
   "mimetype": "text/x-python",
   "name": "python",
   "nbconvert_exporter": "python",
   "pygments_lexer": "ipython3",
   "version": "3.8.12"
  }
 },
 "nbformat": 4,
 "nbformat_minor": 5
}
