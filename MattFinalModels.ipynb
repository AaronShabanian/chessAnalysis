{
 "cells": [
  {
   "cell_type": "code",
   "execution_count": 100,
   "id": "89d988c9",
   "metadata": {},
   "outputs": [],
   "source": [
    "import pandas as pd\n",
    "import numpy as np\n",
    "from plotnine import *\n",
    "from tensorflow import keras\n",
    "from keras import models\n",
    "from keras import layers\n",
    "from keras import losses\n",
    "from tensorflow.keras import optimizers\n",
    "from keras import metrics\n",
    "from sklearn.model_selection import train_test_split\n",
    "from sklearn.preprocessing import StandardScaler\n",
    "\n",
    "from sklearn.linear_model import LogisticRegression # Logistic Regression Model\n",
    "from sklearn.metrics import accuracy_score, confusion_matrix, plot_confusion_matrix\n",
    "\n",
    "from sklearn.model_selection import KFold # k-fold cv\n",
    "from sklearn.model_selection import LeaveOneOut #LOO cv\n",
    "from sklearn.model_selection import cross_val_score # cross validation metrics\n",
    "from sklearn.model_selection import cross_val_predict # cross validation metrics\n",
    "\n",
    "from sklearn.linear_model import LinearRegression # Linear Regression Model\n",
    "from sklearn.metrics import mean_squared_error, r2_score #model evaluation\n",
    "\n"
   ]
  },
  {
   "cell_type": "code",
   "execution_count": 101,
   "id": "5a75d301",
   "metadata": {},
   "outputs": [],
   "source": [
    "db=pd.read_csv(\"games.csv\")\n",
    "#db.head()\n",
    "\n",
    "\n",
    "db[\"winner\"] = db[\"winner\"].astype('category')\n",
    "db['winner_code']=db[\"winner\"].cat.codes\n",
    "\n",
    "db[\"opening_eco\"]=db[\"opening_eco\"].astype('category')\n",
    "db[\"opening_eco_code\"]=db[\"opening_eco\"].cat.codes\n",
    "\n",
    "db[\"opening_name\"]=db[\"opening_name\"].astype('category')\n",
    "db[\"opening_name_code\"]=db[\"opening_name\"].cat.codes\n",
    "\n",
    "db[\"victory_status\"]=db[\"victory_status\"].astype('category')\n",
    "db[\"victory_status_code\"]=db[\"victory_status\"].cat.codes\n",
    "\n",
    "db[\"increment_code\"]=db[\"increment_code\"].astype('category')\n",
    "db[\"increment_code_num\"]=db[\"increment_code\"].cat.codes"
   ]
  },
  {
   "cell_type": "code",
   "execution_count": 102,
   "id": "bdc558c2",
   "metadata": {},
   "outputs": [
    {
     "name": "stdout",
     "output_type": "stream",
     "text": [
      "6905\n"
     ]
    }
   ],
   "source": [
    "ELOconditionsW = [\n",
    "    (db['white_rating'] >= 0) & (db['white_rating'] <= 1450),\n",
    "    (db['white_rating'] >= 1451) & (db['white_rating'] <= 1700),\n",
    "    (db['white_rating'] >= 1701)\n",
    "    ]\n",
    "\n",
    "ELOconditionsB = [\n",
    "    (db['black_rating'] >= 0) & (db['black_rating'] <= 1450),\n",
    "    (db['black_rating'] >= 1451) & (db['black_rating'] <= 1700),\n",
    "    (db['black_rating'] >= 1701)\n",
    "    ]\n",
    "\n",
    "values = ['0', '1', '2']\n",
    "\n",
    "db['tierW'] = np.select(ELOconditionsW, values)\n",
    "db['tierB'] = np.select(ELOconditionsB, values)\n",
    "\n",
    "db['tierW'] = db['tierW'].astype(str).astype('category')\n",
    "db['tierWcode'] = db['tierW'].cat.codes\n",
    "db['tierB'] = db['tierB'].astype(str).astype('category')\n",
    "db['tierBcode'] = db['tierB'].cat.codes\n",
    "\n",
    "\n",
    "\n",
    "\n",
    "#db[['black_rating','white_rating','tierB','tierW','winner']].iloc[0:25]\n",
    "\n",
    "counter =0\n",
    "for i in db['tierW']:\n",
    "    if i == '2':\n",
    "        counter +=1\n",
    "        \n",
    "print(counter)"
   ]
  },
  {
   "cell_type": "code",
   "execution_count": 116,
   "id": "a8c5e41d",
   "metadata": {},
   "outputs": [
    {
     "data": {
      "text/html": [
       "<div>\n",
       "<style scoped>\n",
       "    .dataframe tbody tr th:only-of-type {\n",
       "        vertical-align: middle;\n",
       "    }\n",
       "\n",
       "    .dataframe tbody tr th {\n",
       "        vertical-align: top;\n",
       "    }\n",
       "\n",
       "    .dataframe thead th {\n",
       "        text-align: right;\n",
       "    }\n",
       "</style>\n",
       "<table border=\"1\" class=\"dataframe\">\n",
       "  <thead>\n",
       "    <tr style=\"text-align: right;\">\n",
       "      <th></th>\n",
       "      <th>id</th>\n",
       "      <th>rated</th>\n",
       "      <th>created_at</th>\n",
       "      <th>last_move_at</th>\n",
       "      <th>turns</th>\n",
       "      <th>victory_status</th>\n",
       "      <th>winner</th>\n",
       "      <th>increment_code</th>\n",
       "      <th>white_id</th>\n",
       "      <th>white_rating</th>\n",
       "      <th>...</th>\n",
       "      <th>opening_ply</th>\n",
       "      <th>winner_code</th>\n",
       "      <th>opening_eco_code</th>\n",
       "      <th>opening_name_code</th>\n",
       "      <th>victory_status_code</th>\n",
       "      <th>increment_code_num</th>\n",
       "      <th>tierW</th>\n",
       "      <th>tierB</th>\n",
       "      <th>tierWcode</th>\n",
       "      <th>tierBcode</th>\n",
       "    </tr>\n",
       "  </thead>\n",
       "  <tbody>\n",
       "    <tr>\n",
       "      <th>0</th>\n",
       "      <td>TZJHLljE</td>\n",
       "      <td>False</td>\n",
       "      <td>1.504210e+12</td>\n",
       "      <td>1.504210e+12</td>\n",
       "      <td>13</td>\n",
       "      <td>outoftime</td>\n",
       "      <td>white</td>\n",
       "      <td>15+2</td>\n",
       "      <td>bourgris</td>\n",
       "      <td>1500</td>\n",
       "      <td>...</td>\n",
       "      <td>5</td>\n",
       "      <td>2</td>\n",
       "      <td>248</td>\n",
       "      <td>1387</td>\n",
       "      <td>2</td>\n",
       "      <td>110</td>\n",
       "      <td>1</td>\n",
       "      <td>0</td>\n",
       "      <td>1</td>\n",
       "      <td>0</td>\n",
       "    </tr>\n",
       "    <tr>\n",
       "      <th>1</th>\n",
       "      <td>l1NXvwaE</td>\n",
       "      <td>True</td>\n",
       "      <td>1.504130e+12</td>\n",
       "      <td>1.504130e+12</td>\n",
       "      <td>16</td>\n",
       "      <td>resign</td>\n",
       "      <td>black</td>\n",
       "      <td>5+10</td>\n",
       "      <td>a-00</td>\n",
       "      <td>1322</td>\n",
       "      <td>...</td>\n",
       "      <td>4</td>\n",
       "      <td>0</td>\n",
       "      <td>71</td>\n",
       "      <td>750</td>\n",
       "      <td>3</td>\n",
       "      <td>298</td>\n",
       "      <td>0</td>\n",
       "      <td>0</td>\n",
       "      <td>0</td>\n",
       "      <td>0</td>\n",
       "    </tr>\n",
       "    <tr>\n",
       "      <th>2</th>\n",
       "      <td>mIICvQHh</td>\n",
       "      <td>True</td>\n",
       "      <td>1.504130e+12</td>\n",
       "      <td>1.504130e+12</td>\n",
       "      <td>61</td>\n",
       "      <td>mate</td>\n",
       "      <td>white</td>\n",
       "      <td>5+10</td>\n",
       "      <td>ischia</td>\n",
       "      <td>1496</td>\n",
       "      <td>...</td>\n",
       "      <td>3</td>\n",
       "      <td>2</td>\n",
       "      <td>171</td>\n",
       "      <td>650</td>\n",
       "      <td>1</td>\n",
       "      <td>298</td>\n",
       "      <td>1</td>\n",
       "      <td>1</td>\n",
       "      <td>1</td>\n",
       "      <td>1</td>\n",
       "    </tr>\n",
       "    <tr>\n",
       "      <th>3</th>\n",
       "      <td>kWKvrqYL</td>\n",
       "      <td>True</td>\n",
       "      <td>1.504110e+12</td>\n",
       "      <td>1.504110e+12</td>\n",
       "      <td>61</td>\n",
       "      <td>mate</td>\n",
       "      <td>white</td>\n",
       "      <td>20+0</td>\n",
       "      <td>daniamurashov</td>\n",
       "      <td>1439</td>\n",
       "      <td>...</td>\n",
       "      <td>3</td>\n",
       "      <td>2</td>\n",
       "      <td>241</td>\n",
       "      <td>992</td>\n",
       "      <td>1</td>\n",
       "      <td>187</td>\n",
       "      <td>0</td>\n",
       "      <td>1</td>\n",
       "      <td>0</td>\n",
       "      <td>1</td>\n",
       "    </tr>\n",
       "    <tr>\n",
       "      <th>4</th>\n",
       "      <td>9tXo1AUZ</td>\n",
       "      <td>True</td>\n",
       "      <td>1.504030e+12</td>\n",
       "      <td>1.504030e+12</td>\n",
       "      <td>95</td>\n",
       "      <td>mate</td>\n",
       "      <td>white</td>\n",
       "      <td>30+3</td>\n",
       "      <td>nik221107</td>\n",
       "      <td>1523</td>\n",
       "      <td>...</td>\n",
       "      <td>5</td>\n",
       "      <td>2</td>\n",
       "      <td>192</td>\n",
       "      <td>783</td>\n",
       "      <td>1</td>\n",
       "      <td>247</td>\n",
       "      <td>1</td>\n",
       "      <td>1</td>\n",
       "      <td>1</td>\n",
       "      <td>1</td>\n",
       "    </tr>\n",
       "  </tbody>\n",
       "</table>\n",
       "<p>5 rows × 25 columns</p>\n",
       "</div>"
      ],
      "text/plain": [
       "         id  rated    created_at  last_move_at  turns victory_status winner  \\\n",
       "0  TZJHLljE  False  1.504210e+12  1.504210e+12     13      outoftime  white   \n",
       "1  l1NXvwaE   True  1.504130e+12  1.504130e+12     16         resign  black   \n",
       "2  mIICvQHh   True  1.504130e+12  1.504130e+12     61           mate  white   \n",
       "3  kWKvrqYL   True  1.504110e+12  1.504110e+12     61           mate  white   \n",
       "4  9tXo1AUZ   True  1.504030e+12  1.504030e+12     95           mate  white   \n",
       "\n",
       "  increment_code       white_id  white_rating  ... opening_ply  winner_code  \\\n",
       "0           15+2       bourgris          1500  ...           5            2   \n",
       "1           5+10           a-00          1322  ...           4            0   \n",
       "2           5+10         ischia          1496  ...           3            2   \n",
       "3           20+0  daniamurashov          1439  ...           3            2   \n",
       "4           30+3      nik221107          1523  ...           5            2   \n",
       "\n",
       "  opening_eco_code opening_name_code victory_status_code  increment_code_num  \\\n",
       "0              248              1387                   2                 110   \n",
       "1               71               750                   3                 298   \n",
       "2              171               650                   1                 298   \n",
       "3              241               992                   1                 187   \n",
       "4              192               783                   1                 247   \n",
       "\n",
       "   tierW  tierB  tierWcode  tierBcode  \n",
       "0      1      0          1          0  \n",
       "1      0      0          0          0  \n",
       "2      1      1          1          1  \n",
       "3      0      1          0          1  \n",
       "4      1      1          1          1  \n",
       "\n",
       "[5 rows x 25 columns]"
      ]
     },
     "execution_count": 116,
     "metadata": {},
     "output_type": "execute_result"
    }
   ],
   "source": [
    "db.head()"
   ]
  },
  {
   "cell_type": "code",
   "execution_count": 104,
   "id": "5c744d34",
   "metadata": {},
   "outputs": [],
   "source": [
    "predictors=[\"opening_eco_code\",\"turns\"]\n",
    "\n",
    "X_train, X_test, y_train, y_test = train_test_split(db[predictors], db[\"tierWcode\"], test_size=0.2)\n",
    "\n",
    "\n",
    "zscore = StandardScaler()\n",
    "zscore.fit(X_train)\n",
    "\n",
    "Xz_train = zscore.transform(X_train)\n",
    "Xz_test = zscore.transform(X_test)\n",
    "\n",
    "myLogit = LogisticRegression(penalty = \"none\") # create\n",
    "\n",
    "myLogit.fit(Xz_train, y_train) #fit\n",
    "\n",
    "predictedVals = myLogit.predict(Xz_test)# predict\n",
    "\n"
   ]
  },
  {
   "cell_type": "code",
   "execution_count": 105,
   "id": "227d4554",
   "metadata": {},
   "outputs": [
    {
     "data": {
      "text/plain": [
       "0.3778664007976072"
      ]
     },
     "execution_count": 105,
     "metadata": {},
     "output_type": "execute_result"
    }
   ],
   "source": [
    "accuracy_score(y_test,predictedVals)"
   ]
  },
  {
   "cell_type": "code",
   "execution_count": 106,
   "id": "40fe4c40",
   "metadata": {},
   "outputs": [
    {
     "name": "stderr",
     "output_type": "stream",
     "text": [
      "/Users/matthew/miniforge3/envs/tf_m1/lib/python3.8/site-packages/sklearn/utils/deprecation.py:87: FutureWarning: Function plot_confusion_matrix is deprecated; Function `plot_confusion_matrix` is deprecated in 1.0 and will be removed in 1.2. Use one of the class methods: ConfusionMatrixDisplay.from_predictions or ConfusionMatrixDisplay.from_estimator.\n"
     ]
    },
    {
     "data": {
      "text/plain": [
       "<sklearn.metrics._plot.confusion_matrix.ConfusionMatrixDisplay at 0x1544ad8b0>"
      ]
     },
     "execution_count": 106,
     "metadata": {},
     "output_type": "execute_result"
    },
    {
     "data": {
      "image/png": "[encoded data removed]",
      "text/plain": [
       "<Figure size 432x288 with 2 Axes>"
      ]
     },
     "metadata": {
      "needs_background": "light"
     },
     "output_type": "display_data"
    }
   ],
   "source": [
    "plot_confusion_matrix(myLogit, Xz_test, y_test)"
   ]
  },
  {
   "cell_type": "code",
   "execution_count": 107,
   "id": "0664fdde",
   "metadata": {},
   "outputs": [],
   "source": [
    "predictors=[\"white_rating\",\"opening_eco_code\",\"black_rating\",\"rated\"]\n",
    "X = db[predictors]\n",
    "Y = db[\"turns\"]"
   ]
  },
  {
   "cell_type": "code",
   "execution_count": 108,
   "id": "eb4cf889",
   "metadata": {
    "scrolled": true
   },
   "outputs": [],
   "source": [
    "zScore = StandardScaler()\n",
    "zScore.fit(X)\n",
    "\n",
    "Xz = zScore.transform(X)"
   ]
  },
  {
   "cell_type": "code",
   "execution_count": 109,
   "id": "f12bd502",
   "metadata": {},
   "outputs": [],
   "source": [
    "LR_Model1 = LinearRegression()"
   ]
  },
  {
   "cell_type": "code",
   "execution_count": 110,
   "id": "d5aa1397",
   "metadata": {},
   "outputs": [
    {
     "data": {
      "text/plain": [
       "LinearRegression()"
      ]
     },
     "execution_count": 110,
     "metadata": {},
     "output_type": "execute_result"
    }
   ],
   "source": [
    "LR_Model1.fit(Xz, Y)"
   ]
  },
  {
   "cell_type": "code",
   "execution_count": 111,
   "id": "202483ca",
   "metadata": {},
   "outputs": [
    {
     "data": {
      "text/plain": [
       "array([54.98485344, 60.29391915, 59.90548474, 60.16981872, 43.72405556,\n",
       "       59.88312168, 60.57102579, 58.65747181, 54.559722  ])"
      ]
     },
     "execution_count": 111,
     "metadata": {},
     "output_type": "execute_result"
    }
   ],
   "source": [
    "turn_pred = LR_Model1.predict(Xz)\n",
    "\n",
    "turn_pred[1:10]"
   ]
  },
  {
   "cell_type": "code",
   "execution_count": 112,
   "id": "f60be8d1",
   "metadata": {},
   "outputs": [
    {
     "data": {
      "text/plain": [
       "1087.5010117572097"
      ]
     },
     "execution_count": 112,
     "metadata": {},
     "output_type": "execute_result"
    }
   ],
   "source": [
    "mean_squared_error(Y, price_pred)"
   ]
  },
  {
   "cell_type": "code",
   "execution_count": 113,
   "id": "f14ec0fc",
   "metadata": {},
   "outputs": [
    {
     "data": {
      "text/plain": [
       "0.03498623120915423"
      ]
     },
     "execution_count": 113,
     "metadata": {},
     "output_type": "execute_result"
    }
   ],
   "source": [
    "r2_score(Y, price_pred)"
   ]
  },
  {
   "cell_type": "code",
   "execution_count": 114,
   "id": "03964119",
   "metadata": {},
   "outputs": [
    {
     "data": {
      "image/png": "[encoded data removed]",
      "text/plain": [
       "<Figure size 640x480 with 1 Axes>"
      ]
     },
     "metadata": {
      "needs_background": "light"
     },
     "output_type": "display_data"
    },
    {
     "data": {
      "text/plain": [
       "<ggplot: (356873069)>"
      ]
     },
     "execution_count": 114,
     "metadata": {},
     "output_type": "execute_result"
    }
   ],
   "source": [
    "assump = pd.DataFrame({\"error\":Y - turn_pred, \"predicted\": turn_pred})\n",
    "\n",
    "(ggplot(assump, aes(x = \"predicted\", y = \"error\")) + geom_point() + theme_minimal())"
   ]
  },
  {
   "cell_type": "code",
   "execution_count": 118,
   "id": "dc6301ce",
   "metadata": {},
   "outputs": [
    {
     "name": "stderr",
     "output_type": "stream",
     "text": [
      "/var/folders/01/zrl41sc1325ccgdyth45q5z80000gn/T/ipykernel_97610/1370986850.py:3: FutureWarning: The frame.append method is deprecated and will be removed from pandas in a future version. Use pandas.concat instead.\n"
     ]
    },
    {
     "data": {
      "text/html": [
       "<div>\n",
       "<style scoped>\n",
       "    .dataframe tbody tr th:only-of-type {\n",
       "        vertical-align: middle;\n",
       "    }\n",
       "\n",
       "    .dataframe tbody tr th {\n",
       "        vertical-align: top;\n",
       "    }\n",
       "\n",
       "    .dataframe thead th {\n",
       "        text-align: right;\n",
       "    }\n",
       "</style>\n",
       "<table border=\"1\" class=\"dataframe\">\n",
       "  <thead>\n",
       "    <tr style=\"text-align: right;\">\n",
       "      <th></th>\n",
       "      <th>Coef</th>\n",
       "      <th>Name</th>\n",
       "    </tr>\n",
       "  </thead>\n",
       "  <tbody>\n",
       "    <tr>\n",
       "      <th>0</th>\n",
       "      <td>1.609720</td>\n",
       "      <td>white_rating</td>\n",
       "    </tr>\n",
       "    <tr>\n",
       "      <th>1</th>\n",
       "      <td>0.730047</td>\n",
       "      <td>opening_eco_code</td>\n",
       "    </tr>\n",
       "    <tr>\n",
       "      <th>2</th>\n",
       "      <td>4.252257</td>\n",
       "      <td>black_rating</td>\n",
       "    </tr>\n",
       "    <tr>\n",
       "      <th>3</th>\n",
       "      <td>2.886926</td>\n",
       "      <td>rated</td>\n",
       "    </tr>\n",
       "    <tr>\n",
       "      <th>4</th>\n",
       "      <td>60.465999</td>\n",
       "      <td>intercept</td>\n",
       "    </tr>\n",
       "  </tbody>\n",
       "</table>\n",
       "</div>"
      ],
      "text/plain": [
       "        Coef              Name\n",
       "0   1.609720      white_rating\n",
       "1   0.730047  opening_eco_code\n",
       "2   4.252257      black_rating\n",
       "3   2.886926             rated\n",
       "4  60.465999         intercept"
      ]
     },
     "execution_count": 118,
     "metadata": {},
     "output_type": "execute_result"
    }
   ],
   "source": [
    "coefficients = pd.DataFrame({\"Coef\":LR_Model1.coef_,\n",
    "              \"Name\": predictors})\n",
    "coefficients = coefficients.append({\"Coef\": LR_Model1.intercept_,\n",
    "                    \"Name\": \"intercept\"}, ignore_index = True)\n",
    "\n",
    "coefficients"
   ]
  },
  {
   "cell_type": "code",
   "execution_count": null,
   "id": "f918baa1",
   "metadata": {},
   "outputs": [],
   "source": []
  },
  {
   "cell_type": "code",
   "execution_count": null,
   "id": "92264a0f",
   "metadata": {},
   "outputs": [],
   "source": [
    "#Next Linear Reg"
   ]
  },
  {
   "cell_type": "code",
   "execution_count": 129,
   "id": "d0db3a57",
   "metadata": {},
   "outputs": [],
   "source": [
    "predictors=[\"turns\",\"opening_eco_code\",\"black_rating\"]\n",
    "X = db[predictors]\n",
    "Y = db[\"white_rating\"]"
   ]
  },
  {
   "cell_type": "code",
   "execution_count": 130,
   "id": "ce8b907b",
   "metadata": {},
   "outputs": [],
   "source": [
    "zScore = StandardScaler()\n",
    "zScore.fit(X)\n",
    "\n",
    "Xz = zScore.transform(X)"
   ]
  },
  {
   "cell_type": "code",
   "execution_count": 131,
   "id": "27cad8bc",
   "metadata": {},
   "outputs": [],
   "source": [
    "LR_Model2 = LinearRegression()"
   ]
  },
  {
   "cell_type": "code",
   "execution_count": 132,
   "id": "ce02aecb",
   "metadata": {},
   "outputs": [
    {
     "data": {
      "text/plain": [
       "LinearRegression()"
      ]
     },
     "execution_count": 132,
     "metadata": {},
     "output_type": "execute_result"
    }
   ],
   "source": [
    "LR_Model2.fit(Xz, Y)"
   ]
  },
  {
   "cell_type": "code",
   "execution_count": 133,
   "id": "e5195017",
   "metadata": {},
   "outputs": [
    {
     "data": {
      "text/plain": [
       "array([1370.88553363, 1544.75930326, 1524.67324886, 1536.10427927,\n",
       "       1208.43668808, 1498.16804203, 1902.1264587 , 1481.80695573,\n",
       "       1363.11372858])"
      ]
     },
     "execution_count": 133,
     "metadata": {},
     "output_type": "execute_result"
    }
   ],
   "source": [
    "elo_pred = LR_Model2.predict(Xz)\n",
    "\n",
    "elo_pred[1:10]"
   ]
  },
  {
   "cell_type": "code",
   "execution_count": 138,
   "id": "710ab44d",
   "metadata": {},
   "outputs": [
    {
     "data": {
      "text/plain": [
       "50525.61056544815"
      ]
     },
     "execution_count": 138,
     "metadata": {},
     "output_type": "execute_result"
    }
   ],
   "source": [
    "mean_squared_error(Y, elo_pred)"
   ]
  },
  {
   "cell_type": "code",
   "execution_count": 139,
   "id": "e2a72850",
   "metadata": {},
   "outputs": [
    {
     "data": {
      "text/plain": [
       "0.4043498061945283"
      ]
     },
     "execution_count": 139,
     "metadata": {},
     "output_type": "execute_result"
    }
   ],
   "source": [
    "r2_score(Y, elo_pred)"
   ]
  },
  {
   "cell_type": "code",
   "execution_count": 140,
   "id": "2d28137b",
   "metadata": {},
   "outputs": [
    {
     "data": {
      "image/png": "[encoded data removed]",
      "text/plain": [
       "<Figure size 640x480 with 1 Axes>"
      ]
     },
     "metadata": {
      "needs_background": "light"
     },
     "output_type": "display_data"
    },
    {
     "data": {
      "text/plain": [
       "<ggplot: (360229846)>"
      ]
     },
     "execution_count": 140,
     "metadata": {},
     "output_type": "execute_result"
    }
   ],
   "source": [
    "assump = pd.DataFrame({\"error\":Y - elo_pred, \"predicted\": elo_pred})\n",
    "\n",
    "(ggplot(assump, aes(x = \"predicted\", y = \"error\")) + geom_point() + theme_minimal())"
   ]
  },
  {
   "cell_type": "code",
   "execution_count": 141,
   "id": "f910a233",
   "metadata": {},
   "outputs": [
    {
     "name": "stderr",
     "output_type": "stream",
     "text": [
      "/var/folders/01/zrl41sc1325ccgdyth45q5z80000gn/T/ipykernel_97610/2864364317.py:3: FutureWarning: The frame.append method is deprecated and will be removed from pandas in a future version. Use pandas.concat instead.\n"
     ]
    },
    {
     "data": {
      "text/html": [
       "<div>\n",
       "<style scoped>\n",
       "    .dataframe tbody tr th:only-of-type {\n",
       "        vertical-align: middle;\n",
       "    }\n",
       "\n",
       "    .dataframe tbody tr th {\n",
       "        vertical-align: top;\n",
       "    }\n",
       "\n",
       "    .dataframe thead th {\n",
       "        text-align: right;\n",
       "    }\n",
       "</style>\n",
       "<table border=\"1\" class=\"dataframe\">\n",
       "  <thead>\n",
       "    <tr style=\"text-align: right;\">\n",
       "      <th></th>\n",
       "      <th>Coef</th>\n",
       "      <th>Name</th>\n",
       "    </tr>\n",
       "  </thead>\n",
       "  <tbody>\n",
       "    <tr>\n",
       "      <th>0</th>\n",
       "      <td>8.089260</td>\n",
       "      <td>turns</td>\n",
       "    </tr>\n",
       "    <tr>\n",
       "      <th>1</th>\n",
       "      <td>10.799674</td>\n",
       "      <td>opening_eco_code</td>\n",
       "    </tr>\n",
       "    <tr>\n",
       "      <th>2</th>\n",
       "      <td>183.113753</td>\n",
       "      <td>black_rating</td>\n",
       "    </tr>\n",
       "    <tr>\n",
       "      <th>3</th>\n",
       "      <td>1596.631868</td>\n",
       "      <td>intercept</td>\n",
       "    </tr>\n",
       "  </tbody>\n",
       "</table>\n",
       "</div>"
      ],
      "text/plain": [
       "          Coef              Name\n",
       "0     8.089260             turns\n",
       "1    10.799674  opening_eco_code\n",
       "2   183.113753      black_rating\n",
       "3  1596.631868         intercept"
      ]
     },
     "execution_count": 141,
     "metadata": {},
     "output_type": "execute_result"
    }
   ],
   "source": [
    "coefficients = pd.DataFrame({\"Coef\":LR_Model2.coef_,\n",
    "              \"Name\": predictors})\n",
    "coefficients = coefficients.append({\"Coef\": LR_Model2.intercept_,\n",
    "                    \"Name\": \"intercept\"}, ignore_index = True)\n",
    "\n",
    "coefficients"
   ]
  },
  {
   "cell_type": "code",
   "execution_count": 51,
   "id": "8313d01c",
   "metadata": {},
   "outputs": [],
   "source": [
    "'''\n",
    "db.head(50)\n",
    "counter =0\n",
    "for i in db['tierW']:\n",
    "    if i == '3':\n",
    "        counter +=1\n",
    "        \n",
    "print(counter)\n",
    "\n",
    "\n",
    "db[\"winner\"] = db[\"winner\"].astype('category')\n",
    "db['winner_code']=db[\"winner\"].cat.codes\n",
    "\n",
    "db[\"opening_eco\"]=db[\"opening_eco\"].astype('category')\n",
    "db[\"opening_eco_code\"]=db[\"opening_eco\"].cat.codes\n",
    "\n",
    "db[\"opening_name\"]=db[\"opening_name\"].astype('category')\n",
    "db[\"opening_name_code\"]=db[\"opening_name\"].cat.codes\n",
    "\n",
    "db[\"victory_status\"]=db[\"victory_status\"].astype('category')\n",
    "db[\"victory_status_code\"]=db[\"victory_status\"].cat.codes\n",
    "\n",
    "db[\"increment_code\"]=db[\"increment_code\"].astype('category')\n",
    "db[\"increment_code_num\"]=db[\"increment_code\"].cat.codes\n",
    "\n",
    "\n",
    "data.speeding.plot.density(color='green')\n",
    "plt.title('Density plot for Speeding')\n",
    "plt.show()\n",
    "\n",
    "\n",
    "#X=db[predictors].values.to_list()\n",
    "\n",
    "#y=db[\"tierW\"].values.to_list()\n",
    "\n",
    "#db = pd.DataFrame(db)\n",
    "\n",
    "#db = np.asarray(db[\"tierW\"]).astype('float32')\n",
    "#db = np.asarray(db[\"tierB\"]).astype('float32')\n",
    "\n",
    "\n",
    "predictors=[\"opening_eco_code\",\"turns\"]\n",
    "#predictors=[\"turns\", \"opening_ply\"]\n",
    "db.shape\n",
    "db.dtypes\n",
    "\n",
    "\n",
    "x_train, x_test, y_train, y_test =train_test_split(db[predictors], db[\"tierWcode\"], test_size=.2)\n",
    "x_train= x_train.to_numpy()\n",
    "x_test = x_test.to_numpy()\n",
    "y_train = y_train.to_numpy()\n",
    "y_test = y_test.to_numpy()\n",
    "\n",
    "len(x_train)\n",
    "\n",
    "x_val=x_train[:1500]\n",
    "partial_x_train = x_train[1500:]\n",
    "y_val=y_train[:1500]\n",
    "partial_y_train = y_train[1500: ]\n",
    "\n",
    "model=models.Sequential()\n",
    "model.add(layers.Dense(4, activation = 'relu', input_shape=(2,)))\n",
    "model.add(layers.Dense(5, activation = 'relu'))\n",
    "model.add(layers.Dense(16, activation = 'relu'))\n",
    "model.add(layers.Dense(1, activation= 'sigmoid'))\n",
    "\n",
    "model.compile(loss='categorical_crossentropy', optimizer='adam', metrics=['accuracy'])\n",
    "#categorical cross entropy\n",
    "#output layer give threee layers\n",
    "#sigmoid to softmax\n",
    "\n",
    "\n",
    "[print(i.shape, i.dtype) for i in model.inputs]\n",
    "[print(o.shape, o.dtype) for o in model.outputs]\n",
    "[print(l.name, l.input_shape, l.dtype) for l in model.layers]\n",
    "\n",
    "history = model.fit(partial_x_train,\n",
    "                    partial_y_train,\n",
    "                    epochs=200,\n",
    "                    batch_size=512,\n",
    "                    validation_data=(x_val, y_val))\n",
    "results=model.evaluate(x_test, y_test)\n",
    "results\n",
    "\n",
    "'''"
   ]
  },
  {
   "cell_type": "code",
   "execution_count": 52,
   "id": "dc25d05d",
   "metadata": {},
   "outputs": [],
   "source": []
  }
 ],
 "metadata": {
  "kernelspec": {
   "display_name": "Python 3 (ipykernel)",
   "language": "python",
   "name": "python3"
  },
  "language_info": {
   "codemirror_mode": {
    "name": "ipython",
    "version": 3
   },
   "file_extension": ".py",
   "mimetype": "text/x-python",
   "name": "python",
   "nbconvert_exporter": "python",
   "pygments_lexer": "ipython3",
   "version": "3.8.12"
  }
 },
 "nbformat": 4,
 "nbformat_minor": 5
}
